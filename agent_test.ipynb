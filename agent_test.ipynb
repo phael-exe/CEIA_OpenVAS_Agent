{
 "cells": [
  {
   "cell_type": "code",
   "execution_count": 186,
   "metadata": {},
   "outputs": [],
   "source": [
    "import os\n",
    "import webbrowser\n",
    "\n",
    "\n",
    "from typing import Annotated, Literal\n",
    "from typing_extensions import TypedDict\n",
    "\n",
    "from dotenv import load_dotenv\n",
    "from gvm_workflow import GVMWorkflow\n",
    "from gvm_results import ResultManager\n",
    "\n",
    "from langgraph.graph import MessagesState, END, StateGraph, START\n",
    "from langgraph.types import Command\n",
    "from langgraph.prebuilt import create_react_agent\n",
    "from langchain_core.runnables.graph_mermaid import draw_mermaid_png\n",
    "\n",
    "from langchain_openai import ChatOpenAI\n",
    "from langchain_core.messages import HumanMessage, SystemMessage\n",
    "from langchain.tools import tool\n",
    "from langchain_core.prompts import ChatPromptTemplate, MessagesPlaceholder\n",
    "\n",
    "\n",
    "load_dotenv()\n",
    "\n",
    "api_key = os.getenv(\"OPENAI_API_KEY\")"
   ]
  },
  {
   "cell_type": "code",
   "execution_count": 187,
   "metadata": {},
   "outputs": [],
   "source": [
    "from langchain_openai import ChatOpenAI\n",
    "\n",
    "llm = ChatOpenAI(\n",
    "        model = \"gpt-4o-mini\",\n",
    "        temperature=0.1,\n",
    "        max_completion_tokens=None,\n",
    "        timeout=None,\n",
    "        api_key=api_key,\n",
    "        )\n"
   ]
  },
  {
   "cell_type": "code",
   "execution_count": 188,
   "metadata": {},
   "outputs": [
    {
     "name": "stdout",
     "output_type": "stream",
     "text": [
      "API key is loaded sucessfully\n"
     ]
    }
   ],
   "source": [
    "try:\n",
    "    if api_key is not None:\n",
    "        print(\"API key is loaded sucessfully\")\n",
    "except Exception as e:\n",
    "    print(f\"Erro {e}\")"
   ]
  },
  {
   "cell_type": "code",
   "execution_count": 189,
   "metadata": {},
   "outputs": [],
   "source": [
    "query = input(\"User: \")\n"
   ]
  },
  {
   "cell_type": "code",
   "execution_count": 190,
   "metadata": {},
   "outputs": [],
   "source": [
    "def get_response_from_openai(message):\n",
    "\n",
    "    llm = ChatOpenAI(\n",
    "        model = \"gpt-4o-mini\",\n",
    "        temperature=0.1,\n",
    "        max_completion_tokens=None,\n",
    "        timeout=None,\n",
    "        api_key=api_key,\n",
    "        )\n",
    "    \n",
    "    response = llm.invoke(message)\n",
    "    \n",
    "    return response"
   ]
  },
  {
   "cell_type": "code",
   "execution_count": 191,
   "metadata": {},
   "outputs": [],
   "source": [
    "@tool\n",
    "def get_OpenVAS_results(question: str):\n",
    "    \"\"\"\n",
    "    This tool assists in interpreting an OpenVAS scan result. It helps automate the analysis and understanding \n",
    "    of the vulnerability data extracted from the OpenVAS scan results in the string\n",
    "    \"\"\"\n",
    "    result_manager = ResultManager()\n",
    "   \n",
    "    context =  result_manager.result()\n",
    "   \n",
    "    messages = [\n",
    "        SystemMessage(content=\"\"\"You are a cybersecurity assistant specializing in network scanning \n",
    "                      and penetration testing. With expert knowledge of OpenVAS, a powerful vulnerability \n",
    "                      scanning tool, your role is to interpret everything that comes within the string of \n",
    "                      an XML result converted from an OpenVAS scan. Do not skip any detail—automatically \n",
    "                      analyze and extract all relevant vulnerability data from the string, ensuring nothing \n",
    "                      is overlooked. Your task is to ensure that every piece of information within the OpenVAS \n",
    "                      scan result is processed thoroughly and accurately, providing users with complete insights into the scans\n",
    "                      findings. Be emphatic in your approach, making sure no important data is missed, and offering precise \n",
    "                      analysis for effective vulnerability assessment. You have to hide the response of result_str\n",
    "                      \n",
    "                      You are a cybersecurity assistant specializing in vulnerability analysis and reporting. \n",
    "                      Your task is to provide detailed information about detected vulnerabilities in a structured format.\n",
    "\n",
    "                      When responding, follow this template and replace the placeholders with the appropriate values:\n",
    "\n",
    "                        Vulnerability: [Name of the vulnerability, typically from databases like CVE, descriptive and concise]\n",
    "\n",
    "                        ID: [Unique identifier for the vulnerability within the reporting system]\n",
    "                        Host: _[IP address of the affected host, optionally including an identifier such as \"_gateway\" or \"webserver\"]\n",
    "                        Port: [Affected port number and protocol (e.g., 443/tcp)]\n",
    "                        CVSS Base Score: [Severity score based on the CVSS scale, indicating if it is low, medium, high, or critical]\n",
    "                        Description: [Brief technical explanation of the vulnerability, including its cause and potential impacts, such as remote code execution, XSS, SQL injection, etc.]\n",
    "                        Solution: [Recommended mitigation, such as updating software, applying patches, or configuring security settings]\n",
    "                        References: [List of relevant references, such as CVEs, links to official documentation, or bug tracking tickets]\n",
    "\n",
    "                        Ensure responses are concise, technical, and consistently formatted. After following the vulnerability reporting template, provide additional suggestions for solutions \n",
    "                        and routines to enhance system security. These suggestions can include security best practices, configuration changes, regular updates, and proactive monitoring routines \n",
    "                        to ensure the overall safety and resilience of the system. Ensure that all detected vulnerabilities are processed and reported. No vulnerability should be left unaddressed. \n",
    "                        If any vulnerability is missed, trigger a re-evaluation or notify the user.\"\"\"),\n",
    "        HumanMessage(content=f\"Please analyze the following OpenVAS scan result: {context}, using{question}\")\n",
    "    ]\n",
    "    \n",
    "    response = get_response_from_openai(messages)\n",
    "    \n",
    "    return response"
   ]
  },
  {
   "cell_type": "code",
   "execution_count": 192,
   "metadata": {},
   "outputs": [],
   "source": [
    "@tool\n",
    "def create_OpenVAS_tasks(question: str):\n",
    "    \"\"\"\n",
    "    This tool helps create tasks in OpenVAS, a vulnerability scanning tool.\n",
    "    It will assist in automating task creation for network scans and pentesting tasks within OpenVAS.\n",
    "    \"\"\"\n",
    "    workflow = GVMWorkflow()\n",
    "    \n",
    "    context =  workflow.run()\n",
    "   \n",
    "    messages = [\n",
    "        SystemMessage(content=\"\"\"You are a cybersecurity assistant specialized in network scanning and penetration testing. \n",
    "                                  You are an expert in using OpenVAS, a powerful vulnerability scanning tool, and have in-depth knowledge \n",
    "                                  of its functionalities, including task automation and management. Your role is to assist with automating \n",
    "                                  the creation of tasks in OpenVAS, guiding the user through setting up scans, configuring targets, \n",
    "                                  and scheduling tasks to ensure optimal vulnerability assessments. You should provide clear, concise instructions \n",
    "                                  and troubleshooting tips for configuring OpenVAS tasks, helping users streamline their security operations effectively. \n",
    "                                  Additionally, you should offer suggestions on best practices for network scanning and pentesting using OpenVAS, \n",
    "                                  based on the user's specific needs.\"\"\"),\n",
    "        HumanMessage(content=f\"Execute the following task: {context}, using{question}\")\n",
    "    ]\n",
    "    \n",
    "    response = get_response_from_openai(messages)\n",
    "    \n",
    "    return response"
   ]
  },
  {
   "cell_type": "code",
   "execution_count": 193,
   "metadata": {},
   "outputs": [],
   "source": [
    "@tool\n",
    "def open_browser(porta=9392):\n",
    "    \"\"\"\n",
    "    This tool helps launch the GUI of OpenVAS, a vulnerability scanning tool.  \n",
    "    It will assist in automating the process of opening and accessing the OpenVAS \n",
    "    graphical interface for managing scans and security assessments.  \n",
    "    \"\"\"\n",
    "\n",
    "    url = f\"http://127.0.0.1:{porta}/\"\n",
    "    webbrowser.open(url)\n",
    "    print(f\"Opening {url} in the browser...\")"
   ]
  },
  {
   "cell_type": "code",
   "execution_count": 194,
   "metadata": {},
   "outputs": [],
   "source": [
    "members = [\"tasker\", \"resulter\"]\n",
    "\n",
    "options = members + [\"FINISH\"]\n"
   ]
  },
  {
   "cell_type": "code",
   "execution_count": 195,
   "metadata": {},
   "outputs": [],
   "source": [
    "system_prompt = (\n",
    "    \"You are a supervisor tasked with managing a conversation between the\"\n",
    "    f\" following workers: {members}. Given the following user request,\"\n",
    "    \" respond with the worker to act next. Each worker will perform a\"\n",
    "    \" task and respond with their results and status. When finished,\"\n",
    "    \" respond with FINISH.\"\n",
    ")"
   ]
  },
  {
   "cell_type": "code",
   "execution_count": 196,
   "metadata": {},
   "outputs": [],
   "source": [
    "class Router(TypedDict):\n",
    "\n",
    "    next: Literal[*options]\n",
    "\n",
    "\n",
    "class State(MessagesState):\n",
    "    \n",
    "    next: str\n",
    "\n",
    "def supervisor_node(state: State) -> Command[Literal[*members, \"__end__\"]]:\n",
    "    \n",
    "    messages = [\n",
    "        {\"role\": \"system\", \"content\": system_prompt},\n",
    "    ] + state[\"messages\"]\n",
    "\n",
    "    response = llm.with_structured_output(Router).invoke(messages)\n",
    "    goto = response[\"next\"]\n",
    "    if goto == \"FINISH\":\n",
    "        goto = END\n",
    "\n",
    "    return Command(goto=goto, update={\"next\": goto})"
   ]
  },
  {
   "cell_type": "code",
   "execution_count": 197,
   "metadata": {},
   "outputs": [],
   "source": [
    "task_agent = create_react_agent(llm, \n",
    "                                tools=[create_OpenVAS_tasks, open_browser], \n",
    "                                prompt=\"\"\"You are an automation agent responsible for task creation \n",
    "                                and workflow management in OpenVAS. Your goal is to optimize the execution \n",
    "                                of scans, open the OpenVAS GUI in the browser, and ensure smooth task management.\n",
    "                                Strictly follow security and compliance protocols.\"\"\")\n",
    "\n",
    "def task_node(state: State) -> Command[Literal[\"supervisor\"]]:\n",
    "    result = task_agent.invoke(state)\n",
    "    return Command(\n",
    "        update={\n",
    "            \"messages\": [\n",
    "                HumanMessage(content=result[\"messages\"][-1].content, name=\"tasker\")\n",
    "            ]\n",
    "        },\n",
    "        goto=\"supervisor\"\n",
    "    )"
   ]
  },
  {
   "cell_type": "code",
   "execution_count": 198,
   "metadata": {},
   "outputs": [],
   "source": [
    "task_agent = create_react_agent(llm, \n",
    "                                tools=[create_OpenVAS_tasks, open_browser], \n",
    "                                prompt=\"\"\"You are an automation agent responsible for task creation \n",
    "                                and workflow management in OpenVAS. Your goal is to optimize the execution \n",
    "                                of scans, open the OpenVAS GUI in the browser, and ensure smooth task management.\n",
    "                                Strictly follow security and compliance protocols.\"\"\")\n",
    "\n",
    "def task_node(state: State) -> Command[Literal[\"supervisor\"]]:\n",
    "    result = task_agent.invoke(state)\n",
    "    return Command(\n",
    "        update={\n",
    "            \"messages\": [\n",
    "                HumanMessage(content=result[\"messages\"][-1].content, name=\"tasker\")\n",
    "            ]\n",
    "        },\n",
    "        goto=\"supervisor\"\n",
    "    )"
   ]
  },
  {
   "cell_type": "code",
   "execution_count": 199,
   "metadata": {},
   "outputs": [],
   "source": [
    "result_agent = create_react_agent(llm, \n",
    "                                  tools=[get_OpenVAS_results], \n",
    "                                  prompt=\"\"\"You are an analysis agent responsible for reviewing and interpreting\n",
    "                                            OpenVAS scan results. Your goal is to process reports, identify critical vulnerabilities, \n",
    "                                            and provide clear summaries of key findings. Highlight security risks, suggest mitigation strategies, \n",
    "                                            and ensure the information is actionable for users. Strictly follow security and compliance protocols.\"\"\")\n",
    "\n",
    "def result_node(state: State) -> Command[Literal[\"supervisor\"]]:\n",
    "    result = result_agent.invoke(state)  # Invocando o agente para processar os resultados\n",
    "    return Command(\n",
    "        update={\n",
    "            \"messages\": [\n",
    "                HumanMessage(content=result[\"messages\"][-1].content, name=\"resulter\")  # Nome do agente de resultado\n",
    "            ]\n",
    "        },\n",
    "        goto=\"supervisor\"  # Transição para o nó 'supervisor'\n",
    "    )"
   ]
  },
  {
   "cell_type": "code",
   "execution_count": 200,
   "metadata": {},
   "outputs": [],
   "source": [
    "builder = StateGraph(State)\n",
    "builder.set_entry_point(\"supervisor\")\n",
    "\n",
    "# Adicionando os nós ao gráfico\n",
    "builder.add_node(\"supervisor\", supervisor_node)\n",
    "builder.add_node(\"tasker\", task_node)\n",
    "builder.add_node(\"resulter\", result_node) \n",
    "# Compilando o gráfico\n",
    "graph = builder.compile()"
   ]
  },
  {
   "cell_type": "code",
   "execution_count": 201,
   "metadata": {},
   "outputs": [
    {
     "data": {
      "image/png": "[encoded data removed]",
      "text/plain": [
       "<IPython.core.display.Image object>"
      ]
     },
     "metadata": {},
     "output_type": "display_data"
    }
   ],
   "source": [
    "from IPython.display import display, Image\n",
    "\n",
    "display(Image(graph.get_graph().draw_mermaid_png()))"
   ]
  },
  {
   "cell_type": "code",
   "execution_count": 202,
   "metadata": {},
   "outputs": [
    {
     "name": "stdout",
     "output_type": "stream",
     "text": [
      "((), {'supervisor': {'next': 'tasker'}})\n",
      "----\n",
      "(('tasker:3a6f3246-6431-744f-8313-d068862c7f7b',), {'agent': {'messages': [AIMessage(content='Please provide the details for the OpenVAS task you would like to create, such as the target IP addresses, scan configuration, and any specific options you want to include.', additional_kwargs={'refusal': None}, response_metadata={'token_usage': {'completion_tokens': 36, 'prompt_tokens': 197, 'total_tokens': 233, 'completion_tokens_details': {'accepted_prediction_tokens': 0, 'audio_tokens': 0, 'reasoning_tokens': 0, 'rejected_prediction_tokens': 0}, 'prompt_tokens_details': {'audio_tokens': 0, 'cached_tokens': 0}}, 'model_name': 'gpt-4o-mini-2024-07-18', 'system_fingerprint': 'fp_13eed4fce1', 'finish_reason': 'stop', 'logprobs': None}, id='run-f6b20f7c-f020-4b10-b1fb-dc6203869c7e-0', usage_metadata={'input_tokens': 197, 'output_tokens': 36, 'total_tokens': 233, 'input_token_details': {'audio': 0, 'cache_read': 0}, 'output_token_details': {'audio': 0, 'reasoning': 0}})]}})\n",
      "----\n",
      "((), {'tasker': {'messages': [HumanMessage(content='Please provide the details for the OpenVAS task you would like to create, such as the target IP addresses, scan configuration, and any specific options you want to include.', additional_kwargs={}, response_metadata={}, name='tasker')]}})\n",
      "----\n",
      "((), {'supervisor': {'next': 'resulter'}})\n",
      "----\n",
      "(('resulter:0e535996-0cba-7ce1-8424-e511015afcee',), {'agent': {'messages': [AIMessage(content='To create an OpenVAS task, please provide the following details:\\n\\n1. **Target IP Addresses**: Specify the IP addresses or ranges you want to scan.\\n2. **Scan Configuration**: Choose a predefined scan configuration (e.g., Full and Fast, Full and Slow, etc.).\\n3. **Task Name**: Give your task a descriptive name.\\n4. **Schedule**: Indicate if you want to run the scan immediately or schedule it for a later time.\\n5. **Notification Options**: Specify if you want to receive notifications upon completion or if there are any specific users to notify.\\n6. **Additional Options**: Any other specific settings or options you want to include in the task.\\n\\nOnce you provide these details, I can assist you further!', additional_kwargs={'refusal': None}, response_metadata={'token_usage': {'completion_tokens': 157, 'prompt_tokens': 188, 'total_tokens': 345, 'completion_tokens_details': {'accepted_prediction_tokens': 0, 'audio_tokens': 0, 'reasoning_tokens': 0, 'rejected_prediction_tokens': 0}, 'prompt_tokens_details': {'audio_tokens': 0, 'cached_tokens': 0}}, 'model_name': 'gpt-4o-mini-2024-07-18', 'system_fingerprint': 'fp_13eed4fce1', 'finish_reason': 'stop', 'logprobs': None}, id='run-b3020019-3829-44bc-984e-2bf9f6fe291f-0', usage_metadata={'input_tokens': 188, 'output_tokens': 157, 'total_tokens': 345, 'input_token_details': {'audio': 0, 'cache_read': 0}, 'output_token_details': {'audio': 0, 'reasoning': 0}})]}})\n",
      "----\n",
      "((), {'resulter': {'messages': [HumanMessage(content='To create an OpenVAS task, please provide the following details:\\n\\n1. **Target IP Addresses**: Specify the IP addresses or ranges you want to scan.\\n2. **Scan Configuration**: Choose a predefined scan configuration (e.g., Full and Fast, Full and Slow, etc.).\\n3. **Task Name**: Give your task a descriptive name.\\n4. **Schedule**: Indicate if you want to run the scan immediately or schedule it for a later time.\\n5. **Notification Options**: Specify if you want to receive notifications upon completion or if there are any specific users to notify.\\n6. **Additional Options**: Any other specific settings or options you want to include in the task.\\n\\nOnce you provide these details, I can assist you further!', additional_kwargs={}, response_metadata={}, name='resulter')]}})\n",
      "----\n",
      "((), {'supervisor': {'next': 'tasker'}})\n",
      "----\n",
      "(('tasker:05db9a84-5ab8-2dfe-6b42-fca7cc964eeb',), {'agent': {'messages': [AIMessage(content='Please provide the following details for the OpenVAS task you would like to create:\\n\\n1. **Target IP Addresses**: Specify the IP addresses or ranges you want to scan.\\n2. **Scan Configuration**: Choose a predefined scan configuration (e.g., Full and Fast, Full and Slow, etc.).\\n3. **Task Name**: Give your task a descriptive name.\\n4. **Schedule**: Indicate if you want to run the scan immediately or schedule it for a later time.\\n5. **Notification Options**: Specify if you want to receive notifications upon completion or if there are any specific users to notify.\\n6. **Additional Options**: Any other specific settings or options you want to include in the task.\\n\\nOnce you provide these details, I can assist you further!', additional_kwargs={'refusal': None}, response_metadata={'token_usage': {'completion_tokens': 160, 'prompt_tokens': 400, 'total_tokens': 560, 'completion_tokens_details': {'accepted_prediction_tokens': 0, 'audio_tokens': 0, 'reasoning_tokens': 0, 'rejected_prediction_tokens': 0}, 'prompt_tokens_details': {'audio_tokens': 0, 'cached_tokens': 0}}, 'model_name': 'gpt-4o-mini-2024-07-18', 'system_fingerprint': 'fp_13eed4fce1', 'finish_reason': 'stop', 'logprobs': None}, id='run-994b9db1-7710-41ad-be37-a48848fc57a4-0', usage_metadata={'input_tokens': 400, 'output_tokens': 160, 'total_tokens': 560, 'input_token_details': {'audio': 0, 'cache_read': 0}, 'output_token_details': {'audio': 0, 'reasoning': 0}})]}})\n",
      "----\n",
      "((), {'tasker': {'messages': [HumanMessage(content='Please provide the following details for the OpenVAS task you would like to create:\\n\\n1. **Target IP Addresses**: Specify the IP addresses or ranges you want to scan.\\n2. **Scan Configuration**: Choose a predefined scan configuration (e.g., Full and Fast, Full and Slow, etc.).\\n3. **Task Name**: Give your task a descriptive name.\\n4. **Schedule**: Indicate if you want to run the scan immediately or schedule it for a later time.\\n5. **Notification Options**: Specify if you want to receive notifications upon completion or if there are any specific users to notify.\\n6. **Additional Options**: Any other specific settings or options you want to include in the task.\\n\\nOnce you provide these details, I can assist you further!', additional_kwargs={}, response_metadata={}, name='tasker')]}})\n",
      "----\n",
      "((), {'supervisor': {'next': 'resulter'}})\n",
      "----\n",
      "(('resulter:0f4328fd-24c5-8476-0946-d8c358751fe0',), {'agent': {'messages': [AIMessage(content='Please provide the following details for the OpenVAS task you would like to create:\\n\\n1. **Target IP Addresses**: Specify the IP addresses or ranges you want to scan.\\n2. **Scan Configuration**: Choose a predefined scan configuration (e.g., Full and Fast, Full and Slow, etc.).\\n3. **Task Name**: Give your task a descriptive name.\\n4. **Schedule**: Indicate if you want to run the scan immediately or schedule it for a later time.\\n5. **Notification Options**: Specify if you want to receive notifications upon completion or if there are any specific users to notify.\\n6. **Additional Options**: Any other specific settings or options you want to include in the task.\\n\\nOnce you provide these details, I can assist you further!', additional_kwargs={'refusal': None}, response_metadata={'token_usage': {'completion_tokens': 160, 'prompt_tokens': 515, 'total_tokens': 675, 'completion_tokens_details': {'accepted_prediction_tokens': 0, 'audio_tokens': 0, 'reasoning_tokens': 0, 'rejected_prediction_tokens': 0}, 'prompt_tokens_details': {'audio_tokens': 0, 'cached_tokens': 0}}, 'model_name': 'gpt-4o-mini-2024-07-18', 'system_fingerprint': 'fp_13eed4fce1', 'finish_reason': 'stop', 'logprobs': None}, id='run-aa7e0cbd-138e-4dd0-9019-0b30ebd86f16-0', usage_metadata={'input_tokens': 515, 'output_tokens': 160, 'total_tokens': 675, 'input_token_details': {'audio': 0, 'cache_read': 0}, 'output_token_details': {'audio': 0, 'reasoning': 0}})]}})\n",
      "----\n",
      "((), {'resulter': {'messages': [HumanMessage(content='Please provide the following details for the OpenVAS task you would like to create:\\n\\n1. **Target IP Addresses**: Specify the IP addresses or ranges you want to scan.\\n2. **Scan Configuration**: Choose a predefined scan configuration (e.g., Full and Fast, Full and Slow, etc.).\\n3. **Task Name**: Give your task a descriptive name.\\n4. **Schedule**: Indicate if you want to run the scan immediately or schedule it for a later time.\\n5. **Notification Options**: Specify if you want to receive notifications upon completion or if there are any specific users to notify.\\n6. **Additional Options**: Any other specific settings or options you want to include in the task.\\n\\nOnce you provide these details, I can assist you further!', additional_kwargs={}, response_metadata={}, name='resulter')]}})\n",
      "----\n",
      "((), {'supervisor': {'next': 'tasker'}})\n",
      "----\n",
      "(('tasker:fb1cf5dc-cd4f-95af-75e0-356402f40c04',), {'agent': {'messages': [AIMessage(content='Please provide the following details for the OpenVAS task you would like to create:\\n\\n1. **Target IP Addresses**: Specify the IP addresses or ranges you want to scan.\\n2. **Scan Configuration**: Choose a predefined scan configuration (e.g., Full and Fast, Full and Slow, etc.).\\n3. **Task Name**: Give your task a descriptive name.\\n4. **Schedule**: Indicate if you want to run the scan immediately or schedule it for a later time.\\n5. **Notification Options**: Specify if you want to receive notifications upon completion or if there are any specific users to notify.\\n6. **Additional Options**: Any other specific settings or options you want to include in the task.\\n\\nOnce you provide these details, I can assist you further!', additional_kwargs={'refusal': None}, response_metadata={'token_usage': {'completion_tokens': 160, 'prompt_tokens': 730, 'total_tokens': 890, 'completion_tokens_details': {'accepted_prediction_tokens': 0, 'audio_tokens': 0, 'reasoning_tokens': 0, 'rejected_prediction_tokens': 0}, 'prompt_tokens_details': {'audio_tokens': 0, 'cached_tokens': 0}}, 'model_name': 'gpt-4o-mini-2024-07-18', 'system_fingerprint': 'fp_13eed4fce1', 'finish_reason': 'stop', 'logprobs': None}, id='run-d2241eee-dc51-4542-a103-b2514f3d1c55-0', usage_metadata={'input_tokens': 730, 'output_tokens': 160, 'total_tokens': 890, 'input_token_details': {'audio': 0, 'cache_read': 0}, 'output_token_details': {'audio': 0, 'reasoning': 0}})]}})\n",
      "----\n",
      "((), {'tasker': {'messages': [HumanMessage(content='Please provide the following details for the OpenVAS task you would like to create:\\n\\n1. **Target IP Addresses**: Specify the IP addresses or ranges you want to scan.\\n2. **Scan Configuration**: Choose a predefined scan configuration (e.g., Full and Fast, Full and Slow, etc.).\\n3. **Task Name**: Give your task a descriptive name.\\n4. **Schedule**: Indicate if you want to run the scan immediately or schedule it for a later time.\\n5. **Notification Options**: Specify if you want to receive notifications upon completion or if there are any specific users to notify.\\n6. **Additional Options**: Any other specific settings or options you want to include in the task.\\n\\nOnce you provide these details, I can assist you further!', additional_kwargs={}, response_metadata={}, name='tasker')]}})\n",
      "----\n",
      "((), {'supervisor': {'next': 'resulter'}})\n",
      "----\n",
      "(('resulter:0f76c49c-585e-1a1d-62c2-c4916290e98c',), {'agent': {'messages': [AIMessage(content='It seems there was a misunderstanding. Please provide the following details for the OpenVAS task you would like to create:\\n\\n1. **Target IP Addresses**: Specify the IP addresses or ranges you want to scan.\\n2. **Scan Configuration**: Choose a predefined scan configuration (e.g., Full and Fast, Full and Slow, etc.).\\n3. **Task Name**: Give your task a descriptive name.\\n4. **Schedule**: Indicate if you want to run the scan immediately or schedule it for a later time.\\n5. **Notification Options**: Specify if you want to receive notifications upon completion or if there are any specific users to notify.\\n6. **Additional Options**: Any other specific settings or options you want to include in the task.\\n\\nOnce you provide these details, I can assist you further!', additional_kwargs={'refusal': None}, response_metadata={'token_usage': {'completion_tokens': 167, 'prompt_tokens': 845, 'total_tokens': 1012, 'completion_tokens_details': {'accepted_prediction_tokens': 0, 'audio_tokens': 0, 'reasoning_tokens': 0, 'rejected_prediction_tokens': 0}, 'prompt_tokens_details': {'audio_tokens': 0, 'cached_tokens': 0}}, 'model_name': 'gpt-4o-mini-2024-07-18', 'system_fingerprint': 'fp_13eed4fce1', 'finish_reason': 'stop', 'logprobs': None}, id='run-e90bb677-c350-4ded-bb00-6534a659dd5f-0', usage_metadata={'input_tokens': 845, 'output_tokens': 167, 'total_tokens': 1012, 'input_token_details': {'audio': 0, 'cache_read': 0}, 'output_token_details': {'audio': 0, 'reasoning': 0}})]}})\n",
      "----\n",
      "((), {'resulter': {'messages': [HumanMessage(content='It seems there was a misunderstanding. Please provide the following details for the OpenVAS task you would like to create:\\n\\n1. **Target IP Addresses**: Specify the IP addresses or ranges you want to scan.\\n2. **Scan Configuration**: Choose a predefined scan configuration (e.g., Full and Fast, Full and Slow, etc.).\\n3. **Task Name**: Give your task a descriptive name.\\n4. **Schedule**: Indicate if you want to run the scan immediately or schedule it for a later time.\\n5. **Notification Options**: Specify if you want to receive notifications upon completion or if there are any specific users to notify.\\n6. **Additional Options**: Any other specific settings or options you want to include in the task.\\n\\nOnce you provide these details, I can assist you further!', additional_kwargs={}, response_metadata={}, name='resulter')]}})\n",
      "----\n",
      "((), {'supervisor': {'next': 'resulter'}})\n",
      "----\n",
      "(('resulter:d3e365b2-e772-578e-fec9-0286d15d66bd',), {'agent': {'messages': [AIMessage(content='It seems there was a misunderstanding. Please provide the following details for the OpenVAS task you would like to create:\\n\\n1. **Target IP Addresses**: Specify the IP addresses or ranges you want to scan.\\n2. **Scan Configuration**: Choose a predefined scan configuration (e.g., Full and Fast, Full and Slow, etc.).\\n3. **Task Name**: Give your task a descriptive name.\\n4. **Schedule**: Indicate if you want to run the scan immediately or schedule it for a later time.\\n5. **Notification Options**: Specify if you want to receive notifications upon completion or if there are any specific users to notify.\\n6. **Additional Options**: Any other specific settings or options you want to include in the task.\\n\\nOnce you provide these details, I can assist you further!', additional_kwargs={'refusal': None}, response_metadata={'token_usage': {'completion_tokens': 167, 'prompt_tokens': 1017, 'total_tokens': 1184, 'completion_tokens_details': {'accepted_prediction_tokens': 0, 'audio_tokens': 0, 'reasoning_tokens': 0, 'rejected_prediction_tokens': 0}, 'prompt_tokens_details': {'audio_tokens': 0, 'cached_tokens': 0}}, 'model_name': 'gpt-4o-mini-2024-07-18', 'system_fingerprint': 'fp_13eed4fce1', 'finish_reason': 'stop', 'logprobs': None}, id='run-df3b9f29-17a9-4529-aac2-21f7ffebc40f-0', usage_metadata={'input_tokens': 1017, 'output_tokens': 167, 'total_tokens': 1184, 'input_token_details': {'audio': 0, 'cache_read': 0}, 'output_token_details': {'audio': 0, 'reasoning': 0}})]}})\n",
      "----\n",
      "((), {'resulter': {'messages': [HumanMessage(content='It seems there was a misunderstanding. Please provide the following details for the OpenVAS task you would like to create:\\n\\n1. **Target IP Addresses**: Specify the IP addresses or ranges you want to scan.\\n2. **Scan Configuration**: Choose a predefined scan configuration (e.g., Full and Fast, Full and Slow, etc.).\\n3. **Task Name**: Give your task a descriptive name.\\n4. **Schedule**: Indicate if you want to run the scan immediately or schedule it for a later time.\\n5. **Notification Options**: Specify if you want to receive notifications upon completion or if there are any specific users to notify.\\n6. **Additional Options**: Any other specific settings or options you want to include in the task.\\n\\nOnce you provide these details, I can assist you further!', additional_kwargs={}, response_metadata={}, name='resulter')]}})\n",
      "----\n",
      "((), {'supervisor': {'next': 'resulter'}})\n",
      "----\n",
      "(('resulter:64c8bb3f-0516-7ef5-f07e-0a38af5453c3',), {'agent': {'messages': [AIMessage(content='It seems there has been a repeated request for the details needed to create an OpenVAS task. Please provide the following information:\\n\\n1. **Target IP Addresses**: Specify the IP addresses or ranges you want to scan.\\n2. **Scan Configuration**: Choose a predefined scan configuration (e.g., Full and Fast, Full and Slow, etc.).\\n3. **Task Name**: Give your task a descriptive name.\\n4. **Schedule**: Indicate if you want to run the scan immediately or schedule it for a later time.\\n5. **Notification Options**: Specify if you want to receive notifications upon completion or if there are any specific users to notify.\\n6. **Additional Options**: Any other specific settings or options you want to include in the task.\\n\\nOnce you provide these details, I can assist you further!', additional_kwargs={'refusal': None}, response_metadata={'token_usage': {'completion_tokens': 169, 'prompt_tokens': 1189, 'total_tokens': 1358, 'completion_tokens_details': {'accepted_prediction_tokens': 0, 'audio_tokens': 0, 'reasoning_tokens': 0, 'rejected_prediction_tokens': 0}, 'prompt_tokens_details': {'audio_tokens': 0, 'cached_tokens': 0}}, 'model_name': 'gpt-4o-mini-2024-07-18', 'system_fingerprint': 'fp_13eed4fce1', 'finish_reason': 'stop', 'logprobs': None}, id='run-386648bb-1e48-4cb8-b40a-727096e83b49-0', usage_metadata={'input_tokens': 1189, 'output_tokens': 169, 'total_tokens': 1358, 'input_token_details': {'audio': 0, 'cache_read': 0}, 'output_token_details': {'audio': 0, 'reasoning': 0}})]}})\n",
      "----\n",
      "((), {'resulter': {'messages': [HumanMessage(content='It seems there has been a repeated request for the details needed to create an OpenVAS task. Please provide the following information:\\n\\n1. **Target IP Addresses**: Specify the IP addresses or ranges you want to scan.\\n2. **Scan Configuration**: Choose a predefined scan configuration (e.g., Full and Fast, Full and Slow, etc.).\\n3. **Task Name**: Give your task a descriptive name.\\n4. **Schedule**: Indicate if you want to run the scan immediately or schedule it for a later time.\\n5. **Notification Options**: Specify if you want to receive notifications upon completion or if there are any specific users to notify.\\n6. **Additional Options**: Any other specific settings or options you want to include in the task.\\n\\nOnce you provide these details, I can assist you further!', additional_kwargs={}, response_metadata={}, name='resulter')]}})\n",
      "----\n",
      "((), {'supervisor': {'next': '__end__'}})\n",
      "----\n"
     ]
    }
   ],
   "source": [
    "for s in graph.stream(\n",
    "    {\"messages\": [(\"user\", query)]}, subgraphs=True\n",
    "):\n",
    "    print(s)\n",
    "    print(\"----\")"
   ]
  }
 ],
 "metadata": {
  "kernelspec": {
   "display_name": ".venv",
   "language": "python",
   "name": "python3"
  },
  "language_info": {
   "codemirror_mode": {
    "name": "ipython",
    "version": 3
   },
   "file_extension": ".py",
   "mimetype": "text/x-python",
   "name": "python",
   "nbconvert_exporter": "python",
   "pygments_lexer": "ipython3",
   "version": "3.12.3"
  }
 },
 "nbformat": 4,
 "nbformat_minor": 2
}
