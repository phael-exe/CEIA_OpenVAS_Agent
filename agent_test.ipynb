{
 "cells": [
  {
   "cell_type": "code",
   "execution_count": 1,
   "metadata": {},
   "outputs": [],
   "source": [
    "import os\n",
    "import webbrowser\n",
    "\n",
    "\n",
    "from typing import Annotated, Literal\n",
    "from typing_extensions import TypedDict\n",
    "\n",
    "from dotenv import load_dotenv\n",
    "from src.tools.gvm_workflow import GVMWorkflow\n",
    "from src.tools.gvm_results import ResultManager\n",
    "\n",
    "from langgraph.graph import MessagesState, END, StateGraph, START\n",
    "from langgraph.types import Command\n",
    "from langgraph.prebuilt import create_react_agent, ToolNode\n",
    "from langchain_core.runnables.graph_mermaid import draw_mermaid_png\n",
    "\n",
    "from langchain_openai import ChatOpenAI\n",
    "from langchain_core.messages import HumanMessage, SystemMessage, AIMessage\n",
    "from langchain.tools import tool\n",
    "from langchain_core.prompts import ChatPromptTemplate, MessagesPlaceholder\n",
    "from langgraph.types import interrupt\n",
    "from langgraph.checkpoint.memory import MemorySaver\n",
    "\n",
    "\n",
    "load_dotenv()\n",
    "\n",
    "api_key = os.getenv(\"OPENAI_API_KEY\")"
   ]
  },
  {
   "cell_type": "code",
   "execution_count": 2,
   "metadata": {},
   "outputs": [],
   "source": [
    "from langchain_openai import ChatOpenAI\n",
    "\n",
    "llm = ChatOpenAI(\n",
    "        model = \"gpt-4o-mini\",\n",
    "        temperature=0.1,\n",
    "        max_completion_tokens=None,\n",
    "        timeout=None,\n",
    "        api_key=api_key,\n",
    "        )\n"
   ]
  },
  {
   "cell_type": "code",
   "execution_count": 3,
   "metadata": {},
   "outputs": [
    {
     "name": "stdout",
     "output_type": "stream",
     "text": [
      "API key is loaded sucessfully\n"
     ]
    }
   ],
   "source": [
    "try:\n",
    "    if api_key is not None:\n",
    "        print(\"API key is loaded sucessfully\")\n",
    "except Exception as e:\n",
    "    print(f\"Erro {e}\")"
   ]
  },
  {
   "cell_type": "code",
   "execution_count": 4,
   "metadata": {},
   "outputs": [],
   "source": [
    "query = input(\"User: \")"
   ]
  },
  {
   "cell_type": "code",
   "execution_count": 5,
   "metadata": {},
   "outputs": [],
   "source": [
    "def get_response_from_openai(message):\n",
    "\n",
    "    llm = ChatOpenAI(\n",
    "        model = \"gpt-4o-mini\",\n",
    "        temperature=0.1,\n",
    "        max_completion_tokens=None,\n",
    "        timeout=None,\n",
    "        api_key=api_key,\n",
    "        )\n",
    "    \n",
    "    response = llm.invoke(message)\n",
    "    \n",
    "    return response"
   ]
  },
  {
   "cell_type": "code",
   "execution_count": 6,
   "metadata": {},
   "outputs": [],
   "source": [
    "@tool\n",
    "def get_OpenVAS_results(question: str):\n",
    "    \"\"\"\n",
    "    This tool assists in interpreting an OpenVAS scan result. It helps automate the analysis and understanding \n",
    "    of the vulnerability data extracted from the OpenVAS scan results in the string\n",
    "    \"\"\"\n",
    "    result_manager = ResultManager()\n",
    "   \n",
    "    context =  result_manager.result()\n",
    "   \n",
    "    messages = [\n",
    "        SystemMessage(content=\"\"\"You are a cybersecurity assistant specializing in network scanning \n",
    "                      and penetration testing. With expert knowledge of OpenVAS, a powerful vulnerability \n",
    "                      scanning tool, your role is to interpret everything that comes within the string of \n",
    "                      an XML result converted from an OpenVAS scan. Do not skip any detail—automatically \n",
    "                      analyze and extract all relevant vulnerability data from the string, ensuring nothing \n",
    "                      is overlooked. Your task is to ensure that every piece of information within the OpenVAS \n",
    "                      scan result is processed thoroughly and accurately, providing users with complete insights into the scans\n",
    "                      findings. Be emphatic in your approach, making sure no important data is missed, and offering precise \n",
    "                      analysis for effective vulnerability assessment. You have to hide the response of result_str\n",
    "                      \n",
    "                      You are a cybersecurity assistant specializing in vulnerability analysis and reporting. \n",
    "                      Your task is to provide detailed information about detected vulnerabilities in a structured format.\n",
    "\n",
    "                      When responding, follow this template and replace the placeholders with the appropriate values:\n",
    "\n",
    "                        Vulnerability: [Name of the vulnerability, typically from databases like CVE, descriptive and concise]\n",
    "\n",
    "                        ID: [Unique identifier for the vulnerability within the reporting system]\n",
    "                        Host: _[IP address of the affected host, optionally including an identifier such as \"_gateway\" or \"webserver\"]\n",
    "                        Port: [Affected port number and protocol (e.g., 443/tcp)]\n",
    "                        CVSS Base Score: [Severity score based on the CVSS scale, indicating if it is low, medium, high, or critical]\n",
    "                        Description: [Brief technical explanation of the vulnerability, including its cause and potential impacts, such as remote code execution, XSS, SQL injection, etc.]\n",
    "                        Solution: [Recommended mi    response = get_response_from_openai(messages)\n",
    "tigation, such as updating software, applying patches, or configuring security settings]\n",
    "                        References: [List of relevant references, such as CVEs, links to official documentation, or bug tracking tickets]\n",
    "\n",
    "                        Ensure responses are concise, technical, and consistently formatted. After following the vulnerability reporting template, provide additional suggestions for solutions \n",
    "                        and routines to enhance system security. These suggestions can include security best practices, configuration changes, regular updates, and proactive monitoring routines \n",
    "                        to ensure the overall safety and resilience of the system. Ensure that all detected vulnerabilities are processed and reported. No vulnerability should be left unaddressed. \n",
    "                        If any vulnerability is missed, trigger a re-evaluation or notify the user.\"\"\"),\n",
    "        HumanMessage(content=f\"Please analyze the following OpenVAS scan result: {context}, using{question}\")\n",
    "    ]\n",
    "    \n",
    "    response = get_response_from_openai(messages)\n",
    "    \n",
    "    return response"
   ]
  },
  {
   "cell_type": "code",
   "execution_count": 7,
   "metadata": {},
   "outputs": [],
   "source": [
    "@tool\n",
    "def create_OpenVAS_tasks(question: str):\n",
    "    \"\"\"\n",
    "    This tool helps create tasks in OpenVAS, a vulnerability scanning tool.\n",
    "    It will assist in automating task creation for network scans and pentesting tasks within OpenVAS.\n",
    "    \"\"\"\n",
    "    workflow = GVMWorkflow()\n",
    "    \n",
    "    context =  workflow.run()\n",
    "   \n",
    "    messages = [\n",
    "        SystemMessage(content=\"\"\"You are a cybersecurity assistant specialized in network scanning and penetration testing. \n",
    "                                  You are an expert in using OpenVAS, a powerful vulnerability scanning tool, and have in-depth knowledge \n",
    "                                  of its functionalities, including task automation and management. Your role is to assist with automating \n",
    "                                  the creation of tasks in OpenVAS, guiding the user through setting up scans, configuring targets, \n",
    "                                  and scheduling tasks to ensure optimal vulnerability assessments. You should provide clear, concise instructions \n",
    "                                  and troubleshooting tips for configuring OpenVAS tasks, helping users streamline their security operations effectively. \n",
    "                                  Additionally, you should offer suggestions on best practices for network scanning and pentesting using OpenVAS, \n",
    "                                  based on the user's specific needs.\"\"\"),\n",
    "        HumanMessage(content=f\"Execute the following task: {context}, using{question}\")\n",
    "    ]\n",
    "    \n",
    "    response = get_response_from_openai(messages)\n",
    "    \n",
    "    return response"
   ]
  },
  {
   "cell_type": "code",
   "execution_count": 8,
   "metadata": {},
   "outputs": [],
   "source": [
    "@tool\n",
    "def open_browser(porta=9392):\n",
    "    \"\"\"\n",
    "    This tool helps launch the GUI of OpenVAS, a vulnerability scanning tool.  \n",
    "    It will assist in automating the process of opening and accessing the OpenVAS \n",
    "    graphical interface for managing scans and security assessments.  \n",
    "    \"\"\"\n",
    "\n",
    "    url = f\"http://127.0.0.1:{porta}/\"\n",
    "    webbrowser.open(url)\n",
    "    print(f\"Opening {url} in the browser...\")"
   ]
  },
  {
   "cell_type": "code",
   "execution_count": 9,
   "metadata": {},
   "outputs": [],
   "source": [
    "members = [\"tasker\", \"resulter\", \"human\"]\n",
    "\n",
    "options = members + [\"FINISH\"]\n",
    "\n",
    "checkpointer = MemorySaver()"
   ]
  },
  {
   "cell_type": "code",
   "execution_count": 10,
   "metadata": {},
   "outputs": [],
   "source": [
    "system_prompt = (\n",
    "    \"You are a supervisor tasked with managing a conversation between the\"\n",
    "    f\" following workers: {members}. Given the following user request,\"\n",
    "    \" respond with the worker to act next. Each worker will perform a\"\n",
    "    \" task and respond with their results and status. When finished,\"\n",
    "    \" respond with FINISH.\"\n",
    ")"
   ]
  },
  {
   "cell_type": "code",
   "execution_count": 11,
   "metadata": {},
   "outputs": [],
   "source": [
    "class Router(TypedDict):\n",
    "\n",
    "    next: Literal[*options]\n",
    "\n",
    "\n",
    "class State(MessagesState):\n",
    "    summary: str\n",
    "    next: str\n"
   ]
  },
  {
   "cell_type": "code",
   "execution_count": 12,
   "metadata": {},
   "outputs": [],
   "source": [
    "def human_editing(state: State):\n",
    "\n",
    "    result = interrupt(\n",
    "        \n",
    "        {\n",
    "            \"task\": \"Review the output from the LLM and make any necessary edits.\",\n",
    "            \"llm_generated_summary\": state[\"messages\"][-1].content\n",
    "        }\n",
    "    )\n",
    "\n",
    "    return Command(update={\"messages\": HumanMessage(result[\"edited_text\"]), \"next\": \"supervisor\"}, goto=\"supervisor\")"
   ]
  },
  {
   "cell_type": "code",
   "execution_count": 13,
   "metadata": {},
   "outputs": [],
   "source": [
    "def supervisor_node(state: State) -> Command[Literal[*members, \"__end__\"]]:\n",
    "    \n",
    "    messages = [\n",
    "        {\"role\": \"system\", \"content\": system_prompt},\n",
    "    ] + state[\"messages\"]\n",
    "\n",
    "    response = llm.with_structured_output(Router).invoke(messages)\n",
    "    goto = response[\"next\"]\n",
    "    if goto == \"FINISH\":\n",
    "        goto = END\n",
    "\n",
    "    return Command(goto=goto, update={\"next\": goto})"
   ]
  },
  {
   "cell_type": "code",
   "execution_count": 14,
   "metadata": {},
   "outputs": [],
   "source": [
    "task_agent = create_react_agent(llm, \n",
    "                                tools=[create_OpenVAS_tasks, open_browser], \n",
    "                                prompt=\"\"\"You are an automation agent responsible for task creation \n",
    "                                and workflow management in OpenVAS. Your goal is to optimize the execution \n",
    "                                of scans, open the OpenVAS GUI in the browser, and ensure smooth task management.\n",
    "                                Strictly follow security and compliance protocols.\"\"\")\n",
    "\n",
    "def task_node(state: State) -> Command[Literal[\"supervisor\", \"call_tool\"]]:\n",
    "    result = task_agent.invoke(state)\n",
    "    print(result)\n",
    "    if result[\"messages\"][-1].tool_calls:\n",
    "        return Command(\n",
    "            update={\"messages\": [\n",
    "                AIMessage(content=result[\"messages\"][-1].content, name=\"tasker\")\n",
    "            ],\n",
    "            \"next\": \"tasker\"\n",
    "            },\n",
    "            goto=\"call_tool\"\n",
    "        )\n",
    "    else: \n",
    "        return Command(\n",
    "            update={\n",
    "             \"messages\": [\n",
    "                AIMessage(content=result[\"messages\"][-1].content, name=\"tasker\")\n",
    "            ]\n",
    "        },\n",
    "        goto=\"supervisor\"  \n",
    "    )\n",
    "\n",
    "    "
   ]
  },
  {
   "cell_type": "code",
   "execution_count": 15,
   "metadata": {},
   "outputs": [],
   "source": [
    "result_agent = create_react_agent(llm, \n",
    "                                  tools=[get_OpenVAS_results], \n",
    "                                  prompt=\"\"\"You are an analysis agent responsible for reviewing and interpreting\n",
    "                                            OpenVAS scan results. Your goal is to process reports, identify critical vulnerabilities, \n",
    "                                            and provide clear summaries of key findings. Highlight security risks, suggest mitigation strategies, \n",
    "                                            and ensure the information is actionable for users. Strictly follow security and compliance protocols.\"\"\")\n",
    "\n",
    "def result_node(state: State) -> Command[Literal[\"supervisor\", \"call_tool\"]]:\n",
    "    result = result_agent.invoke(state)\n",
    "    if result[\"messages\"][-1].tool_calls:\n",
    "        return Command(\n",
    "            update={\"messages\": [\n",
    "                AIMessage(content=result[\"messages\"][-1].content, name=\"resulter\")\n",
    "            ],\n",
    "            \"next\": \"resulter\"\n",
    "            },\n",
    "            goto=\"call_tool\"\n",
    "        )\n",
    "    else: \n",
    "        return Command(\n",
    "            update={\n",
    "             \"messages\": [\n",
    "                AIMessage(content=result[\"messages\"][-1].content, name=\"resulter\")\n",
    "            ]\n",
    "        },\n",
    "        goto=\"supervisor\"  \n",
    "    )"
   ]
  },
  {
   "cell_type": "code",
   "execution_count": 16,
   "metadata": {},
   "outputs": [],
   "source": [
    "toolkit = [get_OpenVAS_results, open_browser, create_OpenVAS_tasks]"
   ]
  },
  {
   "cell_type": "code",
   "execution_count": 17,
   "metadata": {},
   "outputs": [],
   "source": [
    "tool_node = ToolNode(toolkit)\n"
   ]
  },
  {
   "cell_type": "code",
   "execution_count": 18,
   "metadata": {},
   "outputs": [],
   "source": [
    "builder = StateGraph(State)\n",
    "builder.set_entry_point(\"supervisor\")\n",
    "\n",
    "builder.add_node(\"supervisor\", supervisor_node)\n",
    "builder.add_node(\"tasker\", task_node)\n",
    "builder.add_node(\"resulter\", result_node)\n",
    "builder.add_node(\"call_tool\", tool_node)\n",
    "builder.add_node(\"human\", human_editing)\n",
    "\n",
    "builder.add_conditional_edges(\"call_tool\", lambda x: x[\"next\"], {\"resulter\":\"resulter\", \"tasker\":\"tasker\"})\n",
    "builder.add_edge(\"human\", \"supervisor\")\n",
    "\n",
    "graph = builder.compile(checkpointer=checkpointer)\n"
   ]
  },
  {
   "cell_type": "code",
   "execution_count": 19,
   "metadata": {},
   "outputs": [
    {
     "data": {
      "image/png": "[encoded data removed]",
      "text/plain": [
       "<IPython.core.display.Image object>"
      ]
     },
     "metadata": {},
     "output_type": "display_data"
    }
   ],
   "source": [
    "from IPython.display import display, Image\n",
    "\n",
    "display(Image(graph.get_graph().draw_mermaid_png()))"
   ]
  },
  {
   "cell_type": "code",
   "execution_count": 20,
   "metadata": {},
   "outputs": [],
   "source": [
    "thread_config = {\"configurable\": {\"thread_id\": \"some_id\"}}"
   ]
  },
  {
   "cell_type": "code",
   "execution_count": 21,
   "metadata": {},
   "outputs": [
    {
     "name": "stdout",
     "output_type": "stream",
     "text": [
      "((), {'supervisor': {'next': 'tasker'}})\n",
      "----\n",
      "(('tasker:91c987d8-944d-18f0-a60a-0f621566d11b',), {'agent': {'messages': [AIMessage(content='Para analisar uma task no OpenVAS, você pode fornecer mais detalhes sobre a task que deseja analisar? Por exemplo, você gostaria de verificar os resultados de uma análise específica, revisar as configurações da task ou algo mais?', additional_kwargs={'refusal': None}, response_metadata={'token_usage': {'completion_tokens': 46, 'prompt_tokens': 194, 'total_tokens': 240, 'completion_tokens_details': {'accepted_prediction_tokens': 0, 'audio_tokens': 0, 'reasoning_tokens': 0, 'rejected_prediction_tokens': 0}, 'prompt_tokens_details': {'audio_tokens': 0, 'cached_tokens': 0}}, 'model_name': 'gpt-4o-mini-2024-07-18', 'system_fingerprint': 'fp_06737a9306', 'finish_reason': 'stop', 'logprobs': None}, id='run-9fef0464-1254-49f7-9f8f-d0377c3a31fd-0', usage_metadata={'input_tokens': 194, 'output_tokens': 46, 'total_tokens': 240, 'input_token_details': {'audio': 0, 'cache_read': 0}, 'output_token_details': {'audio': 0, 'reasoning': 0}})]}})\n",
      "----\n",
      "{'messages': [HumanMessage(content='quero analisar uma task', additional_kwargs={}, response_metadata={}, id='3f241765-53a7-4344-a8fb-48997b522c03'), AIMessage(content='Para analisar uma task no OpenVAS, você pode fornecer mais detalhes sobre a task que deseja analisar? Por exemplo, você gostaria de verificar os resultados de uma análise específica, revisar as configurações da task ou algo mais?', additional_kwargs={'refusal': None}, response_metadata={'token_usage': {'completion_tokens': 46, 'prompt_tokens': 194, 'total_tokens': 240, 'completion_tokens_details': {'accepted_prediction_tokens': 0, 'audio_tokens': 0, 'reasoning_tokens': 0, 'rejected_prediction_tokens': 0}, 'prompt_tokens_details': {'audio_tokens': 0, 'cached_tokens': 0}}, 'model_name': 'gpt-4o-mini-2024-07-18', 'system_fingerprint': 'fp_06737a9306', 'finish_reason': 'stop', 'logprobs': None}, id='run-9fef0464-1254-49f7-9f8f-d0377c3a31fd-0', usage_metadata={'input_tokens': 194, 'output_tokens': 46, 'total_tokens': 240, 'input_token_details': {'audio': 0, 'cache_read': 0}, 'output_token_details': {'audio': 0, 'reasoning': 0}})]}\n",
      "((), {'tasker': {'messages': [AIMessage(content='Para analisar uma task no OpenVAS, você pode fornecer mais detalhes sobre a task que deseja analisar? Por exemplo, você gostaria de verificar os resultados de uma análise específica, revisar as configurações da task ou algo mais?', additional_kwargs={}, response_metadata={}, name='tasker')]}})\n",
      "----\n",
      "((), {'supervisor': {'next': 'resulter'}})\n",
      "----\n",
      "(('resulter:96156101-f70d-647e-b1fe-e44f6e5f8ca9',), {'agent': {'messages': [AIMessage(content='', additional_kwargs={'tool_calls': [{'id': 'call_Jq2zYBqOJ4FGzoK9q3oWtMGZ', 'function': {'arguments': '{\"question\":\"analisar uma task no OpenVAS\"}', 'name': 'get_OpenVAS_results'}, 'type': 'function'}], 'refusal': None}, response_metadata={'token_usage': {'completion_tokens': 23, 'prompt_tokens': 195, 'total_tokens': 218, 'completion_tokens_details': {'accepted_prediction_tokens': 0, 'audio_tokens': 0, 'reasoning_tokens': 0, 'rejected_prediction_tokens': 0}, 'prompt_tokens_details': {'audio_tokens': 0, 'cached_tokens': 0}}, 'model_name': 'gpt-4o-mini-2024-07-18', 'system_fingerprint': 'fp_13eed4fce1', 'finish_reason': 'tool_calls', 'logprobs': None}, id='run-930e05cd-fc34-484d-a9c3-5195192f76de-0', tool_calls=[{'name': 'get_OpenVAS_results', 'args': {'question': 'analisar uma task no OpenVAS'}, 'id': 'call_Jq2zYBqOJ4FGzoK9q3oWtMGZ', 'type': 'tool_call'}], usage_metadata={'input_tokens': 195, 'output_tokens': 23, 'total_tokens': 218, 'input_token_details': {'audio': 0, 'cache_read': 0}, 'output_token_details': {'audio': 0, 'reasoning': 0}})]}})\n",
      "----\n",
      "(('resulter:96156101-f70d-647e-b1fe-e44f6e5f8ca9',), {'tools': {'messages': [ToolMessage(content='content=\"Here is the detailed analysis of the OpenVAS scan results based on the provided XML data:\\\\n\\\\n### Vulnerability Report\\\\n\\\\n#### Vulnerability: jQuery < 1.9.0 XSS Vulnerability\\\\n- **ID:** 7ae312ef-27ff-4091-bfbd-86dd9d84c2c1\\\\n- **Host:** 192.168.0.1_gateway\\\\n- **Port:** 80/tcp\\\\n- **CVSS Base Score:** 6.1 (Medium)\\\\n- **Description:** jQuery is prone to a cross-site scripting (XSS) vulnerability. The `jQuery(strInput)` function does not differentiate selectors from HTML in a reliable fashion. In vulnerable versions, jQuery determined whether the input was HTML by looking for the \\'<\\' character anywhere in the string, giving attackers more flexibility when attempting to construct a malicious payload. In fixed versions, jQuery only deems the input to be HTML if it explicitly starts with the \\'<\\' character, limiting exploitability only to attackers who can control the beginning of a string, which is far less common.\\\\n- **Solution:** Update to version 1.9.0 or later.\\\\n- **References:**\\\\n  - CVE-2012-6708\\\\n  - [jQuery Ticket #11290](https://bugs.jquery.com/ticket/11290)\\\\n  - WID-SEC-2022-0673\\\\n  - CB-K22/0045\\\\n  - CB-K18/1131\\\\n  - DFN-CERT-2023-1197\\\\n  - DFN-CERT-2020-0590\\\\n\\\\n---\\\\n\\\\n#### Vulnerability: Weak Key Exchange (KEX) Algorithm(s) Supported (SSH)\\\\n- **ID:** 64754ad9-3d0c-48cf-abb8-5dbcb69bf973\\\\n- **Host:** 192.168.0.1_gateway\\\\n- **Port:** 22/tcp\\\\n- **CVSS Base Score:** 5.3 (Medium)\\\\n- **Description:** The remote SSH server supports weak key exchange algorithms, specifically the 1024-bit MODP group / prime KEX algorithms. This configuration allows for potential attacks where an attacker can quickly break individual connections.\\\\n- **Solution:** Disable the reported weak KEX algorithm(s) and alternatively use elliptic-curve Diffie-Hellmann in general, e.g., Curve 25519.\\\\n- **References:**\\\\n  - [WeakDH](https://weakdh.org/sysadmin.html)\\\\n  - [RFC 9142](https://www.rfc-editor.org/rfc/rfc9142)\\\\n  - [RFC 4253](https://www.rfc-editor.org/rfc/rfc4253#section-6.5)\\\\n\\\\n---\\\\n\\\\n#### Vulnerability: Weak Host Key Algorithm(s) (SSH)\\\\n- **ID:** 20549fbd-7e4c-4287-964e-f5ccd0374877\\\\n- **Host:** 192.168.0.1_gateway\\\\n- **Port:** 22/tcp\\\\n- **CVSS Base Score:** 5.3 (Medium)\\\\n- **Description:** The remote SSH server is configured to allow weak host key algorithms, specifically ssh-dss (Digital Signature Algorithm / Digital Signature Standard).\\\\n- **Solution:** Disable the reported weak host key algorithm(s).\\\\n- **References:**\\\\n  - [RFC 8332](https://www.rfc-editor.org/rfc/rfc8332)\\\\n  - [RFC 4253](https://www.rfc-editor.org/rfc/rfc4253#section-6.6)\\\\n\\\\n---\\\\n\\\\n### Additional Recommendations for Security Enhancement\\\\n1. **Regular Updates:** Ensure that all software, including libraries like jQuery, is regularly updated to the latest stable versions to mitigate known vulnerabilities.\\\\n2. **Use Secure Protocols:** Replace any use of Telnet with SSH to ensure encrypted communications, preventing eavesdropping on sensitive data.\\\\n3. **Configuration Hardening:** Review and harden SSH configurations to disable weak key exchange and host key algorithms.\\\\n4. **Monitoring and Logging:** Implement logging and monitoring solutions to detect and respond to suspicious activities in real-time.\\\\n5. **Vulnerability Scanning:** Conduct regular vulnerability scans to identify and remediate new vulnerabilities as they arise.\\\\n\\\\n### Conclusion\\\\nThe scan results indicate multiple vulnerabilities that need immediate attention. It is crucial to address these vulnerabilities to enhance the security posture of the system. If any vulnerabilities are missed or further analysis is required, please notify for a re-evaluation.\" additional_kwargs={\\'refusal\\': None} response_metadata={\\'token_usage\\': {\\'completion_tokens\\': 933, \\'prompt_tokens\\': 88009, \\'total_tokens\\': 88942, \\'completion_tokens_details\\': {\\'accepted_prediction_tokens\\': 0, \\'audio_tokens\\': 0, \\'reasoning_tokens\\': 0, \\'rejected_prediction_tokens\\': 0}, \\'prompt_tokens_details\\': {\\'audio_tokens\\': 0, \\'cached_tokens\\': 87808}}, \\'model_name\\': \\'gpt-4o-mini-2024-07-18\\', \\'system_fingerprint\\': \\'fp_709714d124\\', \\'finish_reason\\': \\'stop\\', \\'logprobs\\': None} id=\\'run-ca6e3e78-62fa-4667-8fb5-60defd531426-0\\' usage_metadata={\\'input_tokens\\': 88009, \\'output_tokens\\': 933, \\'total_tokens\\': 88942, \\'input_token_details\\': {\\'audio\\': 0, \\'cache_read\\': 87808}, \\'output_token_details\\': {\\'audio\\': 0, \\'reasoning\\': 0}}', name='get_OpenVAS_results', id='fcf8e3c4-a9a8-4697-9d46-fb556be8b410', tool_call_id='call_Jq2zYBqOJ4FGzoK9q3oWtMGZ')]}})\n",
      "----\n",
      "(('resulter:96156101-f70d-647e-b1fe-e44f6e5f8ca9',), {'agent': {'messages': [AIMessage(content='### Análise dos Resultados da Task OpenVAS\\n\\n#### Vulnerabilidades Identificadas\\n\\n1. **Vulnerabilidade: jQuery < 1.9.0 XSS Vulnerability**\\n   - **ID:** 7ae312ef-27ff-4091-bfbd-86dd9d84c2c1\\n   - **Host:** 192.168.0.1_gateway\\n   - **Porta:** 80/tcp\\n   - **CVSS Base Score:** 6.1 (Média)\\n   - **Descrição:** A versão vulnerável do jQuery é suscetível a uma vulnerabilidade de Cross-Site Scripting (XSS). A função `jQuery(strInput)` não diferencia adequadamente seletores de HTML, permitindo que atacantes construam cargas úteis maliciosas.\\n   - **Solução:** Atualizar para a versão 1.9.0 ou posterior.\\n   - **Referências:**\\n     - CVE-2012-6708\\n     - [jQuery Ticket #11290](https://bugs.jquery.com/ticket/11290)\\n\\n2. **Vulnerabilidade: Algoritmo de Troca de Chaves Fracas (KEX) Suportado (SSH)**\\n   - **ID:** 64754ad9-3d0c-48cf-abb8-5dbcb69bf973\\n   - **Host:** 192.168.0.1_gateway\\n   - **Porta:** 22/tcp\\n   - **CVSS Base Score:** 5.3 (Média)\\n   - **Descrição:** O servidor SSH remoto suporta algoritmos de troca de chaves fracas, permitindo que atacantes quebrem rapidamente conexões individuais.\\n   - **Solução:** Desabilitar os algoritmos KEX fracos e usar algoritmos mais seguros, como Diffie-Hellmann de curva elíptica.\\n   - **Referências:**\\n     - [WeakDH](https://weakdh.org/sysadmin.html)\\n\\n3. **Vulnerabilidade: Algoritmo de Chave de Host Fraca (SSH)**\\n   - **ID:** 20549fbd-7e4c-4287-964e-f5ccd0374877\\n   - **Host:** 192.168.0.1_gateway\\n   - **Porta:** 22/tcp\\n   - **CVSS Base Score:** 5.3 (Média)\\n   - **Descrição:** O servidor SSH permite algoritmos de chave de host fracos, especificamente ssh-dss.\\n   - **Solução:** Desabilitar os algoritmos de chave de host fracos.\\n   - **Referências:**\\n     - [RFC 8332](https://www.rfc-editor.org/rfc/rfc8332)\\n\\n### Recomendações Adicionais para Melhoria da Segurança\\n1. **Atualizações Regulares:** Mantenha todo o software atualizado para mitigar vulnerabilidades conhecidas.\\n2. **Uso de Protocolos Seguros:** Substitua o uso de Telnet por SSH para garantir comunicações criptografadas.\\n3. **Fortalecimento de Configuração:** Revise e endureça as configurações do SSH para desabilitar algoritmos fracos.\\n4. **Monitoramento e Registro:** Implemente soluções de registro e monitoramento para detectar atividades suspeitas em tempo real.\\n5. **Escaneamento de Vulnerabilidades:** Realize escaneamentos regulares para identificar e remediar novas vulnerabilidades.\\n\\n### Conclusão\\nOs resultados da análise indicam várias vulnerabilidades que requerem atenção imediata. É crucial abordar essas vulnerabilidades para melhorar a postura de segurança do sistema. Se alguma vulnerabilidade for negligenciada ou se uma análise adicional for necessária, por favor, notifique para uma reavaliação.', additional_kwargs={'refusal': None}, response_metadata={'token_usage': {'completion_tokens': 792, 'prompt_tokens': 1432, 'total_tokens': 2224, 'completion_tokens_details': {'accepted_prediction_tokens': 0, 'audio_tokens': 0, 'reasoning_tokens': 0, 'rejected_prediction_tokens': 0}, 'prompt_tokens_details': {'audio_tokens': 0, 'cached_tokens': 0}}, 'model_name': 'gpt-4o-mini-2024-07-18', 'system_fingerprint': 'fp_13eed4fce1', 'finish_reason': 'stop', 'logprobs': None}, id='run-9fbb8f91-0124-4001-8b9a-9e70e2ea6245-0', usage_metadata={'input_tokens': 1432, 'output_tokens': 792, 'total_tokens': 2224, 'input_token_details': {'audio': 0, 'cache_read': 0}, 'output_token_details': {'audio': 0, 'reasoning': 0}})]}})\n",
      "----\n",
      "((), {'resulter': {'messages': [AIMessage(content='### Análise dos Resultados da Task OpenVAS\\n\\n#### Vulnerabilidades Identificadas\\n\\n1. **Vulnerabilidade: jQuery < 1.9.0 XSS Vulnerability**\\n   - **ID:** 7ae312ef-27ff-4091-bfbd-86dd9d84c2c1\\n   - **Host:** 192.168.0.1_gateway\\n   - **Porta:** 80/tcp\\n   - **CVSS Base Score:** 6.1 (Média)\\n   - **Descrição:** A versão vulnerável do jQuery é suscetível a uma vulnerabilidade de Cross-Site Scripting (XSS). A função `jQuery(strInput)` não diferencia adequadamente seletores de HTML, permitindo que atacantes construam cargas úteis maliciosas.\\n   - **Solução:** Atualizar para a versão 1.9.0 ou posterior.\\n   - **Referências:**\\n     - CVE-2012-6708\\n     - [jQuery Ticket #11290](https://bugs.jquery.com/ticket/11290)\\n\\n2. **Vulnerabilidade: Algoritmo de Troca de Chaves Fracas (KEX) Suportado (SSH)**\\n   - **ID:** 64754ad9-3d0c-48cf-abb8-5dbcb69bf973\\n   - **Host:** 192.168.0.1_gateway\\n   - **Porta:** 22/tcp\\n   - **CVSS Base Score:** 5.3 (Média)\\n   - **Descrição:** O servidor SSH remoto suporta algoritmos de troca de chaves fracas, permitindo que atacantes quebrem rapidamente conexões individuais.\\n   - **Solução:** Desabilitar os algoritmos KEX fracos e usar algoritmos mais seguros, como Diffie-Hellmann de curva elíptica.\\n   - **Referências:**\\n     - [WeakDH](https://weakdh.org/sysadmin.html)\\n\\n3. **Vulnerabilidade: Algoritmo de Chave de Host Fraca (SSH)**\\n   - **ID:** 20549fbd-7e4c-4287-964e-f5ccd0374877\\n   - **Host:** 192.168.0.1_gateway\\n   - **Porta:** 22/tcp\\n   - **CVSS Base Score:** 5.3 (Média)\\n   - **Descrição:** O servidor SSH permite algoritmos de chave de host fracos, especificamente ssh-dss.\\n   - **Solução:** Desabilitar os algoritmos de chave de host fracos.\\n   - **Referências:**\\n     - [RFC 8332](https://www.rfc-editor.org/rfc/rfc8332)\\n\\n### Recomendações Adicionais para Melhoria da Segurança\\n1. **Atualizações Regulares:** Mantenha todo o software atualizado para mitigar vulnerabilidades conhecidas.\\n2. **Uso de Protocolos Seguros:** Substitua o uso de Telnet por SSH para garantir comunicações criptografadas.\\n3. **Fortalecimento de Configuração:** Revise e endureça as configurações do SSH para desabilitar algoritmos fracos.\\n4. **Monitoramento e Registro:** Implemente soluções de registro e monitoramento para detectar atividades suspeitas em tempo real.\\n5. **Escaneamento de Vulnerabilidades:** Realize escaneamentos regulares para identificar e remediar novas vulnerabilidades.\\n\\n### Conclusão\\nOs resultados da análise indicam várias vulnerabilidades que requerem atenção imediata. É crucial abordar essas vulnerabilidades para melhorar a postura de segurança do sistema. Se alguma vulnerabilidade for negligenciada ou se uma análise adicional for necessária, por favor, notifique para uma reavaliação.', additional_kwargs={}, response_metadata={}, name='resulter')]}})\n",
      "----\n",
      "((), {'supervisor': {'next': 'human'}})\n",
      "----\n",
      "((), {'__interrupt__': (Interrupt(value={'task': 'Review the output from the LLM and make any necessary edits.', 'llm_generated_summary': '### Análise dos Resultados da Task OpenVAS\\n\\n#### Vulnerabilidades Identificadas\\n\\n1. **Vulnerabilidade: jQuery < 1.9.0 XSS Vulnerability**\\n   - **ID:** 7ae312ef-27ff-4091-bfbd-86dd9d84c2c1\\n   - **Host:** 192.168.0.1_gateway\\n   - **Porta:** 80/tcp\\n   - **CVSS Base Score:** 6.1 (Média)\\n   - **Descrição:** A versão vulnerável do jQuery é suscetível a uma vulnerabilidade de Cross-Site Scripting (XSS). A função `jQuery(strInput)` não diferencia adequadamente seletores de HTML, permitindo que atacantes construam cargas úteis maliciosas.\\n   - **Solução:** Atualizar para a versão 1.9.0 ou posterior.\\n   - **Referências:**\\n     - CVE-2012-6708\\n     - [jQuery Ticket #11290](https://bugs.jquery.com/ticket/11290)\\n\\n2. **Vulnerabilidade: Algoritmo de Troca de Chaves Fracas (KEX) Suportado (SSH)**\\n   - **ID:** 64754ad9-3d0c-48cf-abb8-5dbcb69bf973\\n   - **Host:** 192.168.0.1_gateway\\n   - **Porta:** 22/tcp\\n   - **CVSS Base Score:** 5.3 (Média)\\n   - **Descrição:** O servidor SSH remoto suporta algoritmos de troca de chaves fracas, permitindo que atacantes quebrem rapidamente conexões individuais.\\n   - **Solução:** Desabilitar os algoritmos KEX fracos e usar algoritmos mais seguros, como Diffie-Hellmann de curva elíptica.\\n   - **Referências:**\\n     - [WeakDH](https://weakdh.org/sysadmin.html)\\n\\n3. **Vulnerabilidade: Algoritmo de Chave de Host Fraca (SSH)**\\n   - **ID:** 20549fbd-7e4c-4287-964e-f5ccd0374877\\n   - **Host:** 192.168.0.1_gateway\\n   - **Porta:** 22/tcp\\n   - **CVSS Base Score:** 5.3 (Média)\\n   - **Descrição:** O servidor SSH permite algoritmos de chave de host fracos, especificamente ssh-dss.\\n   - **Solução:** Desabilitar os algoritmos de chave de host fracos.\\n   - **Referências:**\\n     - [RFC 8332](https://www.rfc-editor.org/rfc/rfc8332)\\n\\n### Recomendações Adicionais para Melhoria da Segurança\\n1. **Atualizações Regulares:** Mantenha todo o software atualizado para mitigar vulnerabilidades conhecidas.\\n2. **Uso de Protocolos Seguros:** Substitua o uso de Telnet por SSH para garantir comunicações criptografadas.\\n3. **Fortalecimento de Configuração:** Revise e endureça as configurações do SSH para desabilitar algoritmos fracos.\\n4. **Monitoramento e Registro:** Implemente soluções de registro e monitoramento para detectar atividades suspeitas em tempo real.\\n5. **Escaneamento de Vulnerabilidades:** Realize escaneamentos regulares para identificar e remediar novas vulnerabilidades.\\n\\n### Conclusão\\nOs resultados da análise indicam várias vulnerabilidades que requerem atenção imediata. É crucial abordar essas vulnerabilidades para melhorar a postura de segurança do sistema. Se alguma vulnerabilidade for negligenciada ou se uma análise adicional for necessária, por favor, notifique para uma reavaliação.'}, resumable=True, ns=['human:02f67758-ee45-7a8d-fe46-cbd818bf6407'], when='during'),)})\n",
      "----\n"
     ]
    }
   ],
   "source": [
    "for s in graph.stream(\n",
    "    {\"messages\": [(\"user\", query)]}, subgraphs=True,\n",
    "    config=thread_config\n",
    "):\n",
    "    print(s)\n",
    "    print(\"----\")"
   ]
  }
 ],
 "metadata": {
  "kernelspec": {
   "display_name": ".venv",
   "language": "python",
   "name": "python3"
  },
  "language_info": {
   "codemirror_mode": {
    "name": "ipython",
    "version": 3
   },
   "file_extension": ".py",
   "mimetype": "text/x-python",
   "name": "python",
   "nbconvert_exporter": "python",
   "pygments_lexer": "ipython3",
   "version": "3.12.3"
  }
 },
 "nbformat": 4,
 "nbformat_minor": 2
}
