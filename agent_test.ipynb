{
 "cells": [
  {
   "cell_type": "code",
   "execution_count": null,
   "metadata": {},
   "outputs": [],
   "source": [
    "import os\n",
    "import webbrowser\n",
    "\n",
    "\n",
    "from typing import Annotated, Literal\n",
    "from typing_extensions import TypedDict\n",
    "\n",
    "from dotenv import load_dotenv\n",
    "from tools.gvm_workflow import GVMWorkflow\n",
    "from tools.gvm_results import ResultManager\n",
    "\n",
    "from langgraph.graph import MessagesState, END, StateGraph, START\n",
    "from langgraph.types import Command\n",
    "from langgraph.prebuilt import create_react_agent, ToolNode\n",
    "from langchain_core.runnables.graph_mermaid import draw_mermaid_png\n",
    "\n",
    "from langchain_openai import ChatOpenAI\n",
    "from langchain_core.messages import HumanMessage, SystemMessage, AIMessage\n",
    "from langchain.tools import tool\n",
    "from langchain_core.prompts import ChatPromptTemplate, MessagesPlaceholder\n",
    "\n",
    "\n",
    "load_dotenv()\n",
    "\n",
    "api_key = os.getenv(\"OPENAI_API_KEY\")"
   ]
  },
  {
   "cell_type": "code",
   "execution_count": 322,
   "metadata": {},
   "outputs": [],
   "source": [
    "from langchain_openai import ChatOpenAI\n",
    "\n",
    "llm = ChatOpenAI(\n",
    "        model = \"gpt-4o-mini\",\n",
    "        temperature=0.1,\n",
    "        max_completion_tokens=None,\n",
    "        timeout=None,\n",
    "        api_key=api_key,\n",
    "        )\n"
   ]
  },
  {
   "cell_type": "code",
   "execution_count": 323,
   "metadata": {},
   "outputs": [
    {
     "name": "stdout",
     "output_type": "stream",
     "text": [
      "API key is loaded sucessfully\n"
     ]
    }
   ],
   "source": [
    "try:\n",
    "    if api_key is not None:\n",
    "        print(\"API key is loaded sucessfully\")\n",
    "except Exception as e:\n",
    "    print(f\"Erro {e}\")"
   ]
  },
  {
   "cell_type": "code",
   "execution_count": 324,
   "metadata": {},
   "outputs": [],
   "source": [
    "query = input(\"User: \")\n"
   ]
  },
  {
   "cell_type": "code",
   "execution_count": 325,
   "metadata": {},
   "outputs": [],
   "source": [
    "def get_response_from_openai(message):\n",
    "\n",
    "    llm = ChatOpenAI(\n",
    "        model = \"gpt-4o-mini\",\n",
    "        temperature=0.1,\n",
    "        max_completion_tokens=None,\n",
    "        timeout=None,\n",
    "        api_key=api_key,\n",
    "        )\n",
    "    \n",
    "    response = llm.invoke(message)\n",
    "    \n",
    "    return response"
   ]
  },
  {
   "cell_type": "code",
   "execution_count": 326,
   "metadata": {},
   "outputs": [],
   "source": [
    "@tool\n",
    "def get_OpenVAS_results(question: str):\n",
    "    \"\"\"\n",
    "    This tool assists in interpreting an OpenVAS scan result. It helps automate the analysis and understanding \n",
    "    of the vulnerability data extracted from the OpenVAS scan results in the string\n",
    "    \"\"\"\n",
    "    result_manager = ResultManager()\n",
    "   \n",
    "    context =  result_manager.result()\n",
    "   \n",
    "    messages = [\n",
    "        SystemMessage(content=\"\"\"You are a cybersecurity assistant specializing in network scanning \n",
    "                      and penetration testing. With expert knowledge of OpenVAS, a powerful vulnerability \n",
    "                      scanning tool, your role is to interpret everything that comes within the string of \n",
    "                      an XML result converted from an OpenVAS scan. Do not skip any detail—automatically \n",
    "                      analyze and extract all relevant vulnerability data from the string, ensuring nothing \n",
    "                      is overlooked. Your task is to ensure that every piece of information within the OpenVAS \n",
    "                      scan result is processed thoroughly and accurately, providing users with complete insights into the scans\n",
    "                      findings. Be emphatic in your approach, making sure no important data is missed, and offering precise \n",
    "                      analysis for effective vulnerability assessment. You have to hide the response of result_str\n",
    "                      \n",
    "                      You are a cybersecurity assistant specializing in vulnerability analysis and reporting. \n",
    "                      Your task is to provide detailed information about detected vulnerabilities in a structured format.\n",
    "\n",
    "                      When responding, follow this template and replace the placeholders with the appropriate values:\n",
    "\n",
    "                        Vulnerability: [Name of the vulnerability, typically from databases like CVE, descriptive and concise]\n",
    "\n",
    "                        ID: [Unique identifier for the vulnerability within the reporting system]\n",
    "                        Host: _[IP address of the affected host, optionally including an identifier such as \"_gateway\" or \"webserver\"]\n",
    "                        Port: [Affected port number and protocol (e.g., 443/tcp)]\n",
    "                        CVSS Base Score: [Severity score based on the CVSS scale, indicating if it is low, medium, high, or critical]\n",
    "                        Description: [Brief technical explanation of the vulnerability, including its cause and potential impacts, such as remote code execution, XSS, SQL injection, etc.]\n",
    "                        Solution: [Recommended mitigation, such as updating software, applying patches, or configuring security settings]\n",
    "                        References: [List of relevant references, such as CVEs, links to official documentation, or bug tracking tickets]\n",
    "\n",
    "                        Ensure responses are concise, technical, and consistently formatted. After following the vulnerability reporting template, provide additional suggestions for solutions \n",
    "                        and routines to enhance system security. These suggestions can include security best practices, configuration changes, regular updates, and proactive monitoring routines \n",
    "                        to ensure the overall safety and resilience of the system. Ensure that all detected vulnerabilities are processed and reported. No vulnerability should be left unaddressed. \n",
    "                        If any vulnerability is missed, trigger a re-evaluation or notify the user.\"\"\"),\n",
    "        HumanMessage(content=f\"Please analyze the following OpenVAS scan result: {context}, using{question}\")\n",
    "    ]\n",
    "    \n",
    "    response = get_response_from_openai(messages)\n",
    "    \n",
    "    return response"
   ]
  },
  {
   "cell_type": "code",
   "execution_count": 327,
   "metadata": {},
   "outputs": [],
   "source": [
    "@tool\n",
    "def create_OpenVAS_tasks(question: str):\n",
    "    \"\"\"\n",
    "    This tool helps create tasks in OpenVAS, a vulnerability scanning tool.\n",
    "    It will assist in automating task creation for network scans and pentesting tasks within OpenVAS.\n",
    "    \"\"\"\n",
    "    workflow = GVMWorkflow()\n",
    "    \n",
    "    context =  workflow.run()\n",
    "   \n",
    "    messages = [\n",
    "        SystemMessage(content=\"\"\"You are a cybersecurity assistant specialized in network scanning and penetration testing. \n",
    "                                  You are an expert in using OpenVAS, a powerful vulnerability scanning tool, and have in-depth knowledge \n",
    "                                  of its functionalities, including task automation and management. Your role is to assist with automating \n",
    "                                  the creation of tasks in OpenVAS, guiding the user through setting up scans, configuring targets, \n",
    "                                  and scheduling tasks to ensure optimal vulnerability assessments. You should provide clear, concise instructions \n",
    "                                  and troubleshooting tips for configuring OpenVAS tasks, helping users streamline their security operations effectively. \n",
    "                                  Additionally, you should offer suggestions on best practices for network scanning and pentesting using OpenVAS, \n",
    "                                  based on the user's specific needs.\"\"\"),\n",
    "        HumanMessage(content=f\"Execute the following task: {context}, using{question}\")\n",
    "    ]\n",
    "    \n",
    "    response = get_response_from_openai(messages)\n",
    "    \n",
    "    return response"
   ]
  },
  {
   "cell_type": "code",
   "execution_count": 328,
   "metadata": {},
   "outputs": [],
   "source": [
    "@tool\n",
    "def open_browser(porta=9392):\n",
    "    \"\"\"\n",
    "    This tool helps launch the GUI of OpenVAS, a vulnerability scanning tool.  \n",
    "    It will assist in automating the process of opening and accessing the OpenVAS \n",
    "    graphical interface for managing scans and security assessments.  \n",
    "    \"\"\"\n",
    "\n",
    "    url = f\"http://127.0.0.1:{porta}/\"\n",
    "    webbrowser.open(url)\n",
    "    print(f\"Opening {url} in the browser...\")"
   ]
  },
  {
   "cell_type": "code",
   "execution_count": 329,
   "metadata": {},
   "outputs": [],
   "source": [
    "members = [\"tasker\", \"resulter\"]\n",
    "\n",
    "options = members + [\"FINISH\"]\n"
   ]
  },
  {
   "cell_type": "code",
   "execution_count": 330,
   "metadata": {},
   "outputs": [],
   "source": [
    "system_prompt = (\n",
    "    \"You are a supervisor tasked with managing a conversation between the\"\n",
    "    f\" following workers: {members}. Given the following user request,\"\n",
    "    \" respond with the worker to act next. Each worker will perform a\"\n",
    "    \" task and respond with their results and status. When finished,\"\n",
    "    \" respond with FINISH.\"\n",
    ")"
   ]
  },
  {
   "cell_type": "code",
   "execution_count": 331,
   "metadata": {},
   "outputs": [],
   "source": [
    "class Router(TypedDict):\n",
    "\n",
    "    next: Literal[*options]\n",
    "\n",
    "\n",
    "class State(MessagesState):\n",
    "    \n",
    "    next: str\n",
    "\n",
    "def supervisor_node(state: State) -> Command[Literal[*members, \"__end__\"]]:\n",
    "    \n",
    "    messages = [\n",
    "        {\"role\": \"system\", \"content\": system_prompt},\n",
    "    ] + state[\"messages\"]\n",
    "\n",
    "    response = llm.with_structured_output(Router).invoke(messages)\n",
    "    goto = response[\"next\"]\n",
    "    if goto == \"FINISH\":\n",
    "        goto = END\n",
    "\n",
    "    return Command(goto=goto, update={\"next\": goto})"
   ]
  },
  {
   "cell_type": "code",
   "execution_count": 332,
   "metadata": {},
   "outputs": [],
   "source": [
    "task_agent = create_react_agent(llm, \n",
    "                                tools=[create_OpenVAS_tasks, open_browser], \n",
    "                                prompt=\"\"\"You are an automation agent responsible for task creation \n",
    "                                and workflow management in OpenVAS. Your goal is to optimize the execution \n",
    "                                of scans, open the OpenVAS GUI in the browser, and ensure smooth task management.\n",
    "                                Strictly follow security and compliance protocols.\"\"\")\n",
    "\n",
    "def task_node(state: State) -> Command[Literal[\"supervisor\", \"call_tool\"]]:\n",
    "    result = task_agent.invoke(state)\n",
    "    print(result)\n",
    "    if result[\"messages\"][-1].tool_calls:\n",
    "        return Command(\n",
    "            update={\"messages\": [\n",
    "                AIMessage(content=result[\"messages\"][-1].content, name=\"tasker\")\n",
    "            ],\n",
    "            \"next\": \"tasker\"\n",
    "            },\n",
    "            goto=\"call_tool\"\n",
    "        )\n",
    "    else: \n",
    "        return Command(\n",
    "            update={\n",
    "             \"messages\": [\n",
    "                AIMessage(content=result[\"messages\"][-1].content, name=\"tasker\")\n",
    "            ]\n",
    "        },\n",
    "        goto=\"supervisor\"  \n",
    "    )\n",
    "\n",
    "    "
   ]
  },
  {
   "cell_type": "code",
   "execution_count": 333,
   "metadata": {},
   "outputs": [],
   "source": [
    "result_agent = create_react_agent(llm, \n",
    "                                  tools=[get_OpenVAS_results], \n",
    "                                  prompt=\"\"\"You are an analysis agent responsible for reviewing and interpreting\n",
    "                                            OpenVAS scan results. Your goal is to process reports, identify critical vulnerabilities, \n",
    "                                            and provide clear summaries of key findings. Highlight security risks, suggest mitigation strategies, \n",
    "                                            and ensure the information is actionable for users. Strictly follow security and compliance protocols.\"\"\")\n",
    "\n",
    "def result_node(state: State) -> Command[Literal[\"supervisor\", \"call_tool\"]]:\n",
    "    result = result_agent.invoke(state)\n",
    "    if result[\"messages\"][-1].tool_calls:\n",
    "        return Command(\n",
    "            update={\"messages\": [\n",
    "                AIMessage(content=result[\"messages\"][-1].content, name=\"resulter\")\n",
    "            ],\n",
    "            \"next\": \"resulter\"\n",
    "            },\n",
    "            goto=\"call_tool\"\n",
    "        )\n",
    "    else: \n",
    "        return Command(\n",
    "            update={\n",
    "             \"messages\": [\n",
    "                AIMessage(content=result[\"messages\"][-1].content, name=\"resulter\")\n",
    "            ]\n",
    "        },\n",
    "        goto=\"supervisor\"  \n",
    "    )"
   ]
  },
  {
   "cell_type": "code",
   "execution_count": 334,
   "metadata": {},
   "outputs": [],
   "source": [
    "toolkit = [get_OpenVAS_results, open_browser, create_OpenVAS_tasks]"
   ]
  },
  {
   "cell_type": "code",
   "execution_count": 335,
   "metadata": {},
   "outputs": [],
   "source": [
    "tool_node = ToolNode(toolkit)\n"
   ]
  },
  {
   "cell_type": "code",
   "execution_count": 336,
   "metadata": {},
   "outputs": [],
   "source": [
    "builder = StateGraph(State)\n",
    "builder.set_entry_point(\"supervisor\")\n",
    "\n",
    "# Adicionando os nós ao gráfico\n",
    "builder.add_node(\"supervisor\", supervisor_node)\n",
    "builder.add_node(\"tasker\", task_node)\n",
    "builder.add_node(\"resulter\", result_node)\n",
    "builder.add_node(\"call_tool\", tool_node)\n",
    "builder.add_conditional_edges(\"call_tool\", lambda x: x[\"next\"], {\"resulter\":\"resulter\", \"tasker\":\"tasker\"})\n",
    "# Compilando o gráfico\n",
    "graph = builder.compile()"
   ]
  },
  {
   "cell_type": "code",
   "execution_count": 337,
   "metadata": {},
   "outputs": [
    {
     "data": {
      "image/png": "[encoded data removed]",
      "text/plain": [
       "<IPython.core.display.Image object>"
      ]
     },
     "metadata": {},
     "output_type": "display_data"
    }
   ],
   "source": [
    "from IPython.display import display, Image\n",
    "\n",
    "display(Image(graph.get_graph().draw_mermaid_png()))"
   ]
  },
  {
   "cell_type": "code",
   "execution_count": 338,
   "metadata": {},
   "outputs": [
    {
     "name": "stdout",
     "output_type": "stream",
     "text": [
      "((), {'supervisor': {'next': 'tasker'}})\n",
      "----\n",
      "{'messages': [HumanMessage(content='quero analisar uma task', additional_kwargs={}, response_metadata={}, id='8ecfb10d-b317-456d-9e99-7b8507f90b5a'), AIMessage(content='Para analisar uma task no OpenVAS, você pode me fornecer mais detalhes sobre a task que deseja analisar? Por exemplo, você pode informar o nome da task, o ID ou qualquer outra informação relevante que ajude na análise.', additional_kwargs={'refusal': None}, response_metadata={'token_usage': {'completion_tokens': 47, 'prompt_tokens': 194, 'total_tokens': 241, 'completion_tokens_details': {'accepted_prediction_tokens': 0, 'audio_tokens': 0, 'reasoning_tokens': 0, 'rejected_prediction_tokens': 0}, 'prompt_tokens_details': {'audio_tokens': 0, 'cached_tokens': 0}}, 'model_name': 'gpt-4o-mini-2024-07-18', 'system_fingerprint': 'fp_13eed4fce1', 'finish_reason': 'stop', 'logprobs': None}, id='run-8e5f777c-4a33-4231-b1b1-d542a3bb3c09-0', usage_metadata={'input_tokens': 194, 'output_tokens': 47, 'total_tokens': 241, 'input_token_details': {'audio': 0, 'cache_read': 0}, 'output_token_details': {'audio': 0, 'reasoning': 0}})]}\n",
      "(('tasker:d1a9907d-3a4b-d43f-71d2-32ae88599655',), {'agent': {'messages': [AIMessage(content='Para analisar uma task no OpenVAS, você pode me fornecer mais detalhes sobre a task que deseja analisar? Por exemplo, você pode informar o nome da task, o ID ou qualquer outra informação relevante que ajude na análise.', additional_kwargs={'refusal': None}, response_metadata={'token_usage': {'completion_tokens': 47, 'prompt_tokens': 194, 'total_tokens': 241, 'completion_tokens_details': {'accepted_prediction_tokens': 0, 'audio_tokens': 0, 'reasoning_tokens': 0, 'rejected_prediction_tokens': 0}, 'prompt_tokens_details': {'audio_tokens': 0, 'cached_tokens': 0}}, 'model_name': 'gpt-4o-mini-2024-07-18', 'system_fingerprint': 'fp_13eed4fce1', 'finish_reason': 'stop', 'logprobs': None}, id='run-8e5f777c-4a33-4231-b1b1-d542a3bb3c09-0', usage_metadata={'input_tokens': 194, 'output_tokens': 47, 'total_tokens': 241, 'input_token_details': {'audio': 0, 'cache_read': 0}, 'output_token_details': {'audio': 0, 'reasoning': 0}})]}})\n",
      "----\n",
      "((), {'tasker': {'messages': [AIMessage(content='Para analisar uma task no OpenVAS, você pode me fornecer mais detalhes sobre a task que deseja analisar? Por exemplo, você pode informar o nome da task, o ID ou qualquer outra informação relevante que ajude na análise.', additional_kwargs={}, response_metadata={}, name='tasker')]}})\n",
      "----\n",
      "((), {'supervisor': {'next': 'resulter'}})\n",
      "----\n",
      "(('resulter:969bcc05-70bd-c115-8e6b-bb082e4242ba',), {'agent': {'messages': [AIMessage(content='', additional_kwargs={'tool_calls': [{'id': 'call_zyviypip5DR4hwIvQ22od1Ib', 'function': {'arguments': '{\"question\":\"Por favor, forneça os resultados da task que você deseja analisar.\"}', 'name': 'get_OpenVAS_results'}, 'type': 'function'}], 'refusal': None}, response_metadata={'token_usage': {'completion_tokens': 30, 'prompt_tokens': 196, 'total_tokens': 226, 'completion_tokens_details': {'accepted_prediction_tokens': 0, 'audio_tokens': 0, 'reasoning_tokens': 0, 'rejected_prediction_tokens': 0}, 'prompt_tokens_details': {'audio_tokens': 0, 'cached_tokens': 0}}, 'model_name': 'gpt-4o-mini-2024-07-18', 'system_fingerprint': 'fp_13eed4fce1', 'finish_reason': 'tool_calls', 'logprobs': None}, id='run-166ea922-76b8-4310-934e-9ceac1e4b15f-0', tool_calls=[{'name': 'get_OpenVAS_results', 'args': {'question': 'Por favor, forneça os resultados da task que você deseja analisar.'}, 'id': 'call_zyviypip5DR4hwIvQ22od1Ib', 'type': 'tool_call'}], usage_metadata={'input_tokens': 196, 'output_tokens': 30, 'total_tokens': 226, 'input_token_details': {'audio': 0, 'cache_read': 0}, 'output_token_details': {'audio': 0, 'reasoning': 0}})]}})\n",
      "----\n",
      "(('resulter:969bcc05-70bd-c115-8e6b-bb082e4242ba',), {'tools': {'messages': [ToolMessage(content=\"content='Here are the detailed analyses of the detected vulnerabilities from the OpenVAS scan results:\\\\n\\\\n### Vulnerability Report\\\\n\\\\n1. **Vulnerability:** jQuery < 1.9.0 XSS Vulnerability\\\\n   - **ID:** 4aaca649-ea1a-46c7-b797-0dff985b3127\\\\n   - **Host:** 192.168.0.1_gateway\\\\n   - **Port:** 80/tcp\\\\n   - **CVSS Base Score:** Medium (6.1)\\\\n   - **Description:** jQuery is prone to a cross-site scripting (XSS) vulnerability due to improper handling of HTML input. Attackers can exploit this by injecting malicious scripts.\\\\n   - **Solution:** Update to version 1.9.0 or later.\\\\n   - **References:** \\\\n     - CVE-2012-6708\\\\n     - [jQuery Ticket #11290](https://bugs.jquery.com/ticket/11290)\\\\n     - WID-SEC-2022-0673\\\\n     - CB-K22/0045\\\\n     - CB-K18/1131\\\\n     - DFN-CERT-2023-1197\\\\n     - DFN-CERT-2020-0590\\\\n\\\\n2. **Vulnerability:** Weak Host Key Algorithm(s) (SSH)\\\\n   - **ID:** 237d533d-d190-4c53-9c1c-90312a1ff5f6\\\\n   - **Host:** 192.168.0.1_gateway\\\\n   - **Port:** 22/tcp\\\\n   - **CVSS Base Score:** Medium (5.3)\\\\n   - **Description:** The remote SSH server is configured to allow weak host key algorithms, which can be exploited by attackers.\\\\n   - **Solution:** Disable the reported weak host key algorithm(s).\\\\n   - **References:** \\\\n     - [RFC 8332](https://www.rfc-editor.org/rfc/rfc8332)\\\\n     - [RFC 8709](https://www.rfc-editor.org/rfc/rfc8709)\\\\n     - [RFC 4253](https://www.rfc-editor.org/rfc/rfc4253#section-6.6)\\\\n\\\\n3. **Vulnerability:** Weak Key Exchange (KEX) Algorithm(s) Supported (SSH)\\\\n   - **ID:** 131e7689-a7ad-48f3-83c1-9e54c018d7a6\\\\n   - **Host:** 192.168.0.1_gateway\\\\n   - **Port:** 22/tcp\\\\n   - **CVSS Base Score:** Medium (5.3)\\\\n   - **Description:** The remote SSH server supports weak key exchange algorithms, which can be exploited by attackers to break connections.\\\\n   - **Solution:** Disable the reported weak KEX algorithm(s).\\\\n   - **References:** \\\\n     - [WeakDH](https://weakdh.org/sysadmin.html)\\\\n     - [RFC 9142](https://www.rfc-editor.org/rfc/rfc9142)\\\\n     - [RFC 4253](https://www.rfc-editor.org/rfc/rfc4253#section-6.5)\\\\n\\\\n4. **Vulnerability:** Telnet Unencrypted Cleartext Login\\\\n   - **ID:** 006fb0e3-6b3f-40d8-80ce-501d6e6e5e2c\\\\n   - **Host:** 192.168.0.1_gateway\\\\n   - **Port:** 23/tcp\\\\n   - **CVSS Base Score:** Medium (4.8)\\\\n   - **Description:** The remote host is running a Telnet service that allows cleartext logins over unencrypted connections, exposing credentials to attackers.\\\\n   - **Solution:** Replace Telnet with a protocol like SSH which supports encrypted connections.\\\\n   - **References:** None provided.\\\\n\\\\n5. **Vulnerability:** SSL/TLS: Deprecated TLSv1.0 and TLSv1.1 Protocol Detection\\\\n   - **ID:** 658ef6ae-ad55-4d97-bccc-6b8745bedabe\\\\n   - **Host:** 192.168.0.101\\\\n   - **Port:** 8002/tcp\\\\n   - **CVSS Base Score:** Medium (4.3)\\\\n   - **Description:** The service is providing deprecated TLSv1.0 and TLSv1.1 protocols, which contain known cryptographic flaws.\\\\n   - **Solution:** Disable the deprecated TLSv1.0 and/or TLSv1.1 protocols in favor of TLSv1.2+ protocols.\\\\n   - **References:** \\\\n     - CVE-2011-3389\\\\n     - CVE-2015-0204\\\\n     - [Mozilla SSL Config](https://ssl-config.mozilla.org/)\\\\n     - [BetterCrypto](https://bettercrypto.org/)\\\\n\\\\n6. **Vulnerability:** TCP Timestamps Information Disclosure\\\\n   - **ID:** 2b327348-97ff-4d19-8f66-28112c42466e\\\\n   - **Host:** 192.168.0.100\\\\n   - **Port:** general/tcp\\\\n   - **CVSS Base Score:** Low (2.6)\\\\n   - **Description:** The remote host implements TCP timestamps, allowing the computation of the uptime.\\\\n   - **Solution:** Disable TCP timestamps on Linux and Windows as described in the detailed solution.\\\\n   - **References:** \\\\n     - [RFC 1323](https://datatracker.ietf.org/doc/html/rfc1323)\\\\n     - [RFC 7323](https://datatracker.ietf.org/doc/html/rfc7323)\\\\n\\\\n### Additional Security Recommendations\\\\n- **Regular Updates:** Ensure that all software, including libraries like jQuery, is regularly updated to the latest stable versions to mitigate known vulnerabilities.\\\\n- **Use Strong Protocols:** Replace any use of Telnet with SSH and ensure that only strong encryption and key exchange algorithms are enabled in SSH configurations.\\\\n- **Disable Deprecated Protocols:** Disable TLSv1.0 and TLSv1.1 in favor of TLSv1.2 or higher to enhance security.\\\\n- **Monitor Network Traffic:** Implement monitoring solutions to detect any unauthorized access attempts or anomalies in network traffic.\\\\n- **Conduct Regular Security Audits:** Regularly perform vulnerability scans and penetration tests to identify and remediate potential security issues proactively.\\\\n\\\\nIf any vulnerabilities are missed or require further evaluation, please notify me for a re-evaluation.' additional_kwargs={'refusal': None} response_metadata={'token_usage': {'completion_tokens': 1345, 'prompt_tokens': 106182, 'total_tokens': 107527, 'completion_tokens_details': {'accepted_prediction_tokens': 0, 'audio_tokens': 0, 'reasoning_tokens': 0, 'rejected_prediction_tokens': 0}, 'prompt_tokens_details': {'audio_tokens': 0, 'cached_tokens': 0}}, 'model_name': 'gpt-4o-mini-2024-07-18', 'system_fingerprint': 'fp_00428b782a', 'finish_reason': 'stop', 'logprobs': None} id='run-89992c37-b11c-4297-98d3-554150cec41d-0' usage_metadata={'input_tokens': 106182, 'output_tokens': 1345, 'total_tokens': 107527, 'input_token_details': {'audio': 0, 'cache_read': 0}, 'output_token_details': {'audio': 0, 'reasoning': 0}}\", name='get_OpenVAS_results', id='e84cbcf0-c978-42f6-9070-988a36e61df8', tool_call_id='call_zyviypip5DR4hwIvQ22od1Ib')]}})\n",
      "----\n",
      "(('resulter:969bcc05-70bd-c115-8e6b-bb082e4242ba',), {'agent': {'messages': [AIMessage(content='Aqui está a análise detalhada das vulnerabilidades detectadas nos resultados da varredura OpenVAS:\\n\\n### Relatório de Vulnerabilidades\\n\\n1. **Vulnerabilidade:** jQuery < 1.9.0 XSS Vulnerability\\n   - **ID:** 4aaca649-ea1a-46c7-b797-0dff985b3127\\n   - **Host:** 192.168.0.1_gateway\\n   - **Porta:** 80/tcp\\n   - **CVSS Base Score:** Médio (6.1)\\n   - **Descrição:** O jQuery é vulnerável a um ataque de cross-site scripting (XSS) devido ao manuseio inadequado de entradas HTML. Atacantes podem explorar isso injetando scripts maliciosos.\\n   - **Solução:** Atualizar para a versão 1.9.0 ou posterior.\\n   - **Referências:** \\n     - CVE-2012-6708\\n     - [jQuery Ticket #11290](https://bugs.jquery.com/ticket/11290)\\n\\n2. **Vulnerabilidade:** Weak Host Key Algorithm(s) (SSH)\\n   - **ID:** 237d533d-d190-4c53-9c1c-90312a1ff5f6\\n   - **Host:** 192.168.0.1_gateway\\n   - **Porta:** 22/tcp\\n   - **CVSS Base Score:** Médio (5.3)\\n   - **Descrição:** O servidor SSH remoto está configurado para permitir algoritmos de chave host fracos, que podem ser explorados por atacantes.\\n   - **Solução:** Desabilitar os algoritmos de chave host fracos reportados.\\n   - **Referências:** \\n     - [RFC 8332](https://www.rfc-editor.org/rfc/rfc8332)\\n\\n3. **Vulnerabilidade:** Weak Key Exchange (KEX) Algorithm(s) Supported (SSH)\\n   - **ID:** 131e7689-a7ad-48f3-83c1-9e54c018d7a6\\n   - **Host:** 192.168.0.1_gateway\\n   - **Porta:** 22/tcp\\n   - **CVSS Base Score:** Médio (5.3)\\n   - **Descrição:** O servidor SSH remoto suporta algoritmos de troca de chave fracos, que podem ser explorados por atacantes para quebrar conexões.\\n   - **Solução:** Desabilitar os algoritmos KEX fracos reportados.\\n   - **Referências:** \\n     - [WeakDH](https://weakdh.org/sysadmin.html)\\n\\n4. **Vulnerabilidade:** Telnet Unencrypted Cleartext Login\\n   - **ID:** 006fb0e3-6b3f-40d8-80ce-501d6e6e5e2c\\n   - **Host:** 192.168.0.1_gateway\\n   - **Porta:** 23/tcp\\n   - **CVSS Base Score:** Médio (4.8)\\n   - **Descrição:** O host remoto está executando um serviço Telnet que permite logins em texto claro sobre conexões não criptografadas, expondo credenciais a atacantes.\\n   - **Solução:** Substituir o Telnet por um protocolo como SSH que suporte conexões criptografadas.\\n\\n5. **Vulnerabilidade:** SSL/TLS: Deprecated TLSv1.0 and TLSv1.1 Protocol Detection\\n   - **ID:** 658ef6ae-ad55-4d97-bccc-6b8745bedabe\\n   - **Host:** 192.168.0.101\\n   - **Porta:** 8002/tcp\\n   - **CVSS Base Score:** Médio (4.3)\\n   - **Descrição:** O serviço está fornecendo protocolos TLSv1.0 e TLSv1.1 obsoletos, que contêm falhas criptográficas conhecidas.\\n   - **Solução:** Desabilitar os protocolos TLSv1.0 e/ou TLSv1.1 em favor de protocolos TLSv1.2 ou superiores.\\n\\n6. **Vulnerabilidade:** TCP Timestamps Information Disclosure\\n   - **ID:** 2b327348-97ff-4d19-8f66-28112c42466e\\n   - **Host:** 192.168.0.100\\n   - **Porta:** general/tcp\\n   - **CVSS Base Score:** Baixo (2.6)\\n   - **Descrição:** O host remoto implementa timestamps TCP, permitindo o cálculo do tempo de atividade.\\n   - **Solução:** Desabilitar timestamps TCP em Linux e Windows conforme descrito na solução detalhada.\\n\\n### Recomendações de Segurança Adicionais\\n- **Atualizações Regulares:** Assegure-se de que todo o software, incluindo bibliotecas como jQuery, seja regularmente atualizado para as versões estáveis mais recentes.\\n- **Uso de Protocolos Fortes:** Substitua qualquer uso de Telnet por SSH e assegure-se de que apenas algoritmos de criptografia e troca de chaves fortes estejam habilitados nas configurações do SSH.\\n- **Desabilitar Protocolos Obsoletos:** Desabilite TLSv1.0 e TLSv1.1 em favor de TLSv1.2 ou superior para aumentar a segurança.\\n- **Monitoramento de Tráfego de Rede:** Implemente soluções de monitoramento para detectar tentativas de acesso não autorizadas ou anomalias no tráfego de rede.\\n- **Realizar Auditorias de Segurança Regulares:** Realize varreduras de vulnerabilidade e testes de penetração regularmente para identificar e remediar proativamente potenciais problemas de segurança.\\n\\nSe houver alguma vulnerabilidade que precise de mais avaliação ou se você tiver mais perguntas, por favor, me avise!', additional_kwargs={'refusal': None}, response_metadata={'token_usage': {'completion_tokens': 1234, 'prompt_tokens': 1864, 'total_tokens': 3098, 'completion_tokens_details': {'accepted_prediction_tokens': 0, 'audio_tokens': 0, 'reasoning_tokens': 0, 'rejected_prediction_tokens': 0}, 'prompt_tokens_details': {'audio_tokens': 0, 'cached_tokens': 0}}, 'model_name': 'gpt-4o-mini-2024-07-18', 'system_fingerprint': 'fp_13eed4fce1', 'finish_reason': 'stop', 'logprobs': None}, id='run-b4d3c54e-5cf9-4b5b-834a-2f4785ae5f93-0', usage_metadata={'input_tokens': 1864, 'output_tokens': 1234, 'total_tokens': 3098, 'input_token_details': {'audio': 0, 'cache_read': 0}, 'output_token_details': {'audio': 0, 'reasoning': 0}})]}})\n",
      "----\n",
      "((), {'resulter': {'messages': [AIMessage(content='Aqui está a análise detalhada das vulnerabilidades detectadas nos resultados da varredura OpenVAS:\\n\\n### Relatório de Vulnerabilidades\\n\\n1. **Vulnerabilidade:** jQuery < 1.9.0 XSS Vulnerability\\n   - **ID:** 4aaca649-ea1a-46c7-b797-0dff985b3127\\n   - **Host:** 192.168.0.1_gateway\\n   - **Porta:** 80/tcp\\n   - **CVSS Base Score:** Médio (6.1)\\n   - **Descrição:** O jQuery é vulnerável a um ataque de cross-site scripting (XSS) devido ao manuseio inadequado de entradas HTML. Atacantes podem explorar isso injetando scripts maliciosos.\\n   - **Solução:** Atualizar para a versão 1.9.0 ou posterior.\\n   - **Referências:** \\n     - CVE-2012-6708\\n     - [jQuery Ticket #11290](https://bugs.jquery.com/ticket/11290)\\n\\n2. **Vulnerabilidade:** Weak Host Key Algorithm(s) (SSH)\\n   - **ID:** 237d533d-d190-4c53-9c1c-90312a1ff5f6\\n   - **Host:** 192.168.0.1_gateway\\n   - **Porta:** 22/tcp\\n   - **CVSS Base Score:** Médio (5.3)\\n   - **Descrição:** O servidor SSH remoto está configurado para permitir algoritmos de chave host fracos, que podem ser explorados por atacantes.\\n   - **Solução:** Desabilitar os algoritmos de chave host fracos reportados.\\n   - **Referências:** \\n     - [RFC 8332](https://www.rfc-editor.org/rfc/rfc8332)\\n\\n3. **Vulnerabilidade:** Weak Key Exchange (KEX) Algorithm(s) Supported (SSH)\\n   - **ID:** 131e7689-a7ad-48f3-83c1-9e54c018d7a6\\n   - **Host:** 192.168.0.1_gateway\\n   - **Porta:** 22/tcp\\n   - **CVSS Base Score:** Médio (5.3)\\n   - **Descrição:** O servidor SSH remoto suporta algoritmos de troca de chave fracos, que podem ser explorados por atacantes para quebrar conexões.\\n   - **Solução:** Desabilitar os algoritmos KEX fracos reportados.\\n   - **Referências:** \\n     - [WeakDH](https://weakdh.org/sysadmin.html)\\n\\n4. **Vulnerabilidade:** Telnet Unencrypted Cleartext Login\\n   - **ID:** 006fb0e3-6b3f-40d8-80ce-501d6e6e5e2c\\n   - **Host:** 192.168.0.1_gateway\\n   - **Porta:** 23/tcp\\n   - **CVSS Base Score:** Médio (4.8)\\n   - **Descrição:** O host remoto está executando um serviço Telnet que permite logins em texto claro sobre conexões não criptografadas, expondo credenciais a atacantes.\\n   - **Solução:** Substituir o Telnet por um protocolo como SSH que suporte conexões criptografadas.\\n\\n5. **Vulnerabilidade:** SSL/TLS: Deprecated TLSv1.0 and TLSv1.1 Protocol Detection\\n   - **ID:** 658ef6ae-ad55-4d97-bccc-6b8745bedabe\\n   - **Host:** 192.168.0.101\\n   - **Porta:** 8002/tcp\\n   - **CVSS Base Score:** Médio (4.3)\\n   - **Descrição:** O serviço está fornecendo protocolos TLSv1.0 e TLSv1.1 obsoletos, que contêm falhas criptográficas conhecidas.\\n   - **Solução:** Desabilitar os protocolos TLSv1.0 e/ou TLSv1.1 em favor de protocolos TLSv1.2 ou superiores.\\n\\n6. **Vulnerabilidade:** TCP Timestamps Information Disclosure\\n   - **ID:** 2b327348-97ff-4d19-8f66-28112c42466e\\n   - **Host:** 192.168.0.100\\n   - **Porta:** general/tcp\\n   - **CVSS Base Score:** Baixo (2.6)\\n   - **Descrição:** O host remoto implementa timestamps TCP, permitindo o cálculo do tempo de atividade.\\n   - **Solução:** Desabilitar timestamps TCP em Linux e Windows conforme descrito na solução detalhada.\\n\\n### Recomendações de Segurança Adicionais\\n- **Atualizações Regulares:** Assegure-se de que todo o software, incluindo bibliotecas como jQuery, seja regularmente atualizado para as versões estáveis mais recentes.\\n- **Uso de Protocolos Fortes:** Substitua qualquer uso de Telnet por SSH e assegure-se de que apenas algoritmos de criptografia e troca de chaves fortes estejam habilitados nas configurações do SSH.\\n- **Desabilitar Protocolos Obsoletos:** Desabilite TLSv1.0 e TLSv1.1 em favor de TLSv1.2 ou superior para aumentar a segurança.\\n- **Monitoramento de Tráfego de Rede:** Implemente soluções de monitoramento para detectar tentativas de acesso não autorizadas ou anomalias no tráfego de rede.\\n- **Realizar Auditorias de Segurança Regulares:** Realize varreduras de vulnerabilidade e testes de penetração regularmente para identificar e remediar proativamente potenciais problemas de segurança.\\n\\nSe houver alguma vulnerabilidade que precise de mais avaliação ou se você tiver mais perguntas, por favor, me avise!', additional_kwargs={}, response_metadata={}, name='resulter')]}})\n",
      "----\n",
      "((), {'supervisor': {'next': '__end__'}})\n",
      "----\n"
     ]
    }
   ],
   "source": [
    "for s in graph.stream(\n",
    "    {\"messages\": [(\"user\", query)]}, subgraphs=True\n",
    "):\n",
    "    print(s)\n",
    "    print(\"----\")"
   ]
  }
 ],
 "metadata": {
  "kernelspec": {
   "display_name": ".venv",
   "language": "python",
   "name": "python3"
  },
  "language_info": {
   "codemirror_mode": {
    "name": "ipython",
    "version": 3
   },
   "file_extension": ".py",
   "mimetype": "text/x-python",
   "name": "python",
   "nbconvert_exporter": "python",
   "pygments_lexer": "ipython3",
   "version": "3.12.3"
  }
 },
 "nbformat": 4,
 "nbformat_minor": 2
}
