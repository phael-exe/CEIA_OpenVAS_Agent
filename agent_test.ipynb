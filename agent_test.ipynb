{
 "cells": [
  {
   "cell_type": "code",
<<<<<<< HEAD
   "execution_count": 186,
=======
   "execution_count": null,
>>>>>>> develop
   "metadata": {},
   "outputs": [],
   "source": [
    "import os\n",
    "import webbrowser\n",
    "\n",
    "\n",
    "from typing import Annotated, Literal\n",
    "from typing_extensions import TypedDict\n",
    "\n",
    "from dotenv import load_dotenv\n",
<<<<<<< HEAD
    "from gvm_workflow import GVMWorkflow\n",
    "from gvm_results import ResultManager\n",
    "\n",
    "from langgraph.graph import MessagesState, END, StateGraph, START\n",
    "from langgraph.types import Command\n",
    "from langgraph.prebuilt import create_react_agent\n",
    "from langchain_core.runnables.graph_mermaid import draw_mermaid_png\n",
    "\n",
    "from langchain_openai import ChatOpenAI\n",
    "from langchain_core.messages import HumanMessage, SystemMessage\n",
=======
    "from tools.gvm_workflow import GVMWorkflow\n",
    "from tools.gvm_results import ResultManager\n",
    "\n",
    "from langgraph.graph import MessagesState, END, StateGraph, START\n",
    "from langgraph.types import Command\n",
    "from langgraph.prebuilt import create_react_agent, ToolNode\n",
    "from langchain_core.runnables.graph_mermaid import draw_mermaid_png\n",
    "\n",
    "from langchain_openai import ChatOpenAI\n",
    "from langchain_core.messages import HumanMessage, SystemMessage, AIMessage\n",
>>>>>>> develop
    "from langchain.tools import tool\n",
    "from langchain_core.prompts import ChatPromptTemplate, MessagesPlaceholder\n",
    "\n",
    "\n",
    "load_dotenv()\n",
    "\n",
    "api_key = os.getenv(\"OPENAI_API_KEY\")"
   ]
  },
  {
   "cell_type": "code",
<<<<<<< HEAD
   "execution_count": 187,
=======
   "execution_count": 322,
>>>>>>> develop
   "metadata": {},
   "outputs": [],
   "source": [
    "from langchain_openai import ChatOpenAI\n",
    "\n",
    "llm = ChatOpenAI(\n",
    "        model = \"gpt-4o-mini\",\n",
    "        temperature=0.1,\n",
    "        max_completion_tokens=None,\n",
    "        timeout=None,\n",
    "        api_key=api_key,\n",
    "        )\n"
   ]
  },
  {
   "cell_type": "code",
<<<<<<< HEAD
   "execution_count": 188,
=======
   "execution_count": 323,
>>>>>>> develop
   "metadata": {},
   "outputs": [
    {
     "name": "stdout",
     "output_type": "stream",
     "text": [
      "API key is loaded sucessfully\n"
     ]
    }
   ],
   "source": [
    "try:\n",
    "    if api_key is not None:\n",
    "        print(\"API key is loaded sucessfully\")\n",
    "except Exception as e:\n",
    "    print(f\"Erro {e}\")"
   ]
  },
  {
   "cell_type": "code",
<<<<<<< HEAD
   "execution_count": 189,
=======
   "execution_count": 324,
>>>>>>> develop
   "metadata": {},
   "outputs": [],
   "source": [
    "query = input(\"User: \")\n"
   ]
  },
  {
   "cell_type": "code",
<<<<<<< HEAD
   "execution_count": 190,
=======
   "execution_count": 325,
>>>>>>> develop
   "metadata": {},
   "outputs": [],
   "source": [
    "def get_response_from_openai(message):\n",
    "\n",
    "    llm = ChatOpenAI(\n",
    "        model = \"gpt-4o-mini\",\n",
    "        temperature=0.1,\n",
    "        max_completion_tokens=None,\n",
    "        timeout=None,\n",
    "        api_key=api_key,\n",
    "        )\n",
    "    \n",
    "    response = llm.invoke(message)\n",
    "    \n",
    "    return response"
   ]
  },
  {
   "cell_type": "code",
<<<<<<< HEAD
   "execution_count": 191,
=======
   "execution_count": 326,
>>>>>>> develop
   "metadata": {},
   "outputs": [],
   "source": [
    "@tool\n",
    "def get_OpenVAS_results(question: str):\n",
    "    \"\"\"\n",
    "    This tool assists in interpreting an OpenVAS scan result. It helps automate the analysis and understanding \n",
    "    of the vulnerability data extracted from the OpenVAS scan results in the string\n",
    "    \"\"\"\n",
    "    result_manager = ResultManager()\n",
    "   \n",
    "    context =  result_manager.result()\n",
    "   \n",
    "    messages = [\n",
    "        SystemMessage(content=\"\"\"You are a cybersecurity assistant specializing in network scanning \n",
    "                      and penetration testing. With expert knowledge of OpenVAS, a powerful vulnerability \n",
    "                      scanning tool, your role is to interpret everything that comes within the string of \n",
    "                      an XML result converted from an OpenVAS scan. Do not skip any detail—automatically \n",
    "                      analyze and extract all relevant vulnerability data from the string, ensuring nothing \n",
    "                      is overlooked. Your task is to ensure that every piece of information within the OpenVAS \n",
    "                      scan result is processed thoroughly and accurately, providing users with complete insights into the scans\n",
    "                      findings. Be emphatic in your approach, making sure no important data is missed, and offering precise \n",
    "                      analysis for effective vulnerability assessment. You have to hide the response of result_str\n",
    "                      \n",
    "                      You are a cybersecurity assistant specializing in vulnerability analysis and reporting. \n",
    "                      Your task is to provide detailed information about detected vulnerabilities in a structured format.\n",
    "\n",
    "                      When responding, follow this template and replace the placeholders with the appropriate values:\n",
    "\n",
    "                        Vulnerability: [Name of the vulnerability, typically from databases like CVE, descriptive and concise]\n",
    "\n",
    "                        ID: [Unique identifier for the vulnerability within the reporting system]\n",
    "                        Host: _[IP address of the affected host, optionally including an identifier such as \"_gateway\" or \"webserver\"]\n",
    "                        Port: [Affected port number and protocol (e.g., 443/tcp)]\n",
    "                        CVSS Base Score: [Severity score based on the CVSS scale, indicating if it is low, medium, high, or critical]\n",
    "                        Description: [Brief technical explanation of the vulnerability, including its cause and potential impacts, such as remote code execution, XSS, SQL injection, etc.]\n",
    "                        Solution: [Recommended mitigation, such as updating software, applying patches, or configuring security settings]\n",
    "                        References: [List of relevant references, such as CVEs, links to official documentation, or bug tracking tickets]\n",
    "\n",
    "                        Ensure responses are concise, technical, and consistently formatted. After following the vulnerability reporting template, provide additional suggestions for solutions \n",
    "                        and routines to enhance system security. These suggestions can include security best practices, configuration changes, regular updates, and proactive monitoring routines \n",
    "                        to ensure the overall safety and resilience of the system. Ensure that all detected vulnerabilities are processed and reported. No vulnerability should be left unaddressed. \n",
    "                        If any vulnerability is missed, trigger a re-evaluation or notify the user.\"\"\"),\n",
    "        HumanMessage(content=f\"Please analyze the following OpenVAS scan result: {context}, using{question}\")\n",
    "    ]\n",
    "    \n",
    "    response = get_response_from_openai(messages)\n",
    "    \n",
    "    return response"
   ]
  },
  {
   "cell_type": "code",
<<<<<<< HEAD
   "execution_count": 192,
=======
   "execution_count": 327,
>>>>>>> develop
   "metadata": {},
   "outputs": [],
   "source": [
    "@tool\n",
    "def create_OpenVAS_tasks(question: str):\n",
    "    \"\"\"\n",
    "    This tool helps create tasks in OpenVAS, a vulnerability scanning tool.\n",
    "    It will assist in automating task creation for network scans and pentesting tasks within OpenVAS.\n",
    "    \"\"\"\n",
    "    workflow = GVMWorkflow()\n",
    "    \n",
    "    context =  workflow.run()\n",
    "   \n",
    "    messages = [\n",
    "        SystemMessage(content=\"\"\"You are a cybersecurity assistant specialized in network scanning and penetration testing. \n",
    "                                  You are an expert in using OpenVAS, a powerful vulnerability scanning tool, and have in-depth knowledge \n",
    "                                  of its functionalities, including task automation and management. Your role is to assist with automating \n",
    "                                  the creation of tasks in OpenVAS, guiding the user through setting up scans, configuring targets, \n",
    "                                  and scheduling tasks to ensure optimal vulnerability assessments. You should provide clear, concise instructions \n",
    "                                  and troubleshooting tips for configuring OpenVAS tasks, helping users streamline their security operations effectively. \n",
    "                                  Additionally, you should offer suggestions on best practices for network scanning and pentesting using OpenVAS, \n",
    "                                  based on the user's specific needs.\"\"\"),\n",
    "        HumanMessage(content=f\"Execute the following task: {context}, using{question}\")\n",
    "    ]\n",
    "    \n",
    "    response = get_response_from_openai(messages)\n",
    "    \n",
    "    return response"
   ]
  },
  {
   "cell_type": "code",
<<<<<<< HEAD
   "execution_count": 193,
=======
   "execution_count": 328,
>>>>>>> develop
   "metadata": {},
   "outputs": [],
   "source": [
    "@tool\n",
    "def open_browser(porta=9392):\n",
    "    \"\"\"\n",
    "    This tool helps launch the GUI of OpenVAS, a vulnerability scanning tool.  \n",
    "    It will assist in automating the process of opening and accessing the OpenVAS \n",
    "    graphical interface for managing scans and security assessments.  \n",
    "    \"\"\"\n",
    "\n",
    "    url = f\"http://127.0.0.1:{porta}/\"\n",
    "    webbrowser.open(url)\n",
    "    print(f\"Opening {url} in the browser...\")"
   ]
  },
  {
   "cell_type": "code",
<<<<<<< HEAD
   "execution_count": 194,
=======
   "execution_count": 329,
>>>>>>> develop
   "metadata": {},
   "outputs": [],
   "source": [
    "members = [\"tasker\", \"resulter\"]\n",
    "\n",
    "options = members + [\"FINISH\"]\n"
   ]
  },
  {
   "cell_type": "code",
<<<<<<< HEAD
   "execution_count": 195,
=======
   "execution_count": 330,
>>>>>>> develop
   "metadata": {},
   "outputs": [],
   "source": [
    "system_prompt = (\n",
    "    \"You are a supervisor tasked with managing a conversation between the\"\n",
    "    f\" following workers: {members}. Given the following user request,\"\n",
    "    \" respond with the worker to act next. Each worker will perform a\"\n",
    "    \" task and respond with their results and status. When finished,\"\n",
    "    \" respond with FINISH.\"\n",
    ")"
   ]
  },
  {
   "cell_type": "code",
<<<<<<< HEAD
   "execution_count": 196,
=======
   "execution_count": 331,
>>>>>>> develop
   "metadata": {},
   "outputs": [],
   "source": [
    "class Router(TypedDict):\n",
    "\n",
    "    next: Literal[*options]\n",
    "\n",
    "\n",
    "class State(MessagesState):\n",
    "    \n",
    "    next: str\n",
    "\n",
    "def supervisor_node(state: State) -> Command[Literal[*members, \"__end__\"]]:\n",
    "    \n",
    "    messages = [\n",
    "        {\"role\": \"system\", \"content\": system_prompt},\n",
    "    ] + state[\"messages\"]\n",
    "\n",
    "    response = llm.with_structured_output(Router).invoke(messages)\n",
    "    goto = response[\"next\"]\n",
    "    if goto == \"FINISH\":\n",
    "        goto = END\n",
    "\n",
    "    return Command(goto=goto, update={\"next\": goto})"
   ]
  },
  {
   "cell_type": "code",
<<<<<<< HEAD
   "execution_count": 197,
=======
   "execution_count": 332,
>>>>>>> develop
   "metadata": {},
   "outputs": [],
   "source": [
    "task_agent = create_react_agent(llm, \n",
    "                                tools=[create_OpenVAS_tasks, open_browser], \n",
    "                                prompt=\"\"\"You are an automation agent responsible for task creation \n",
    "                                and workflow management in OpenVAS. Your goal is to optimize the execution \n",
    "                                of scans, open the OpenVAS GUI in the browser, and ensure smooth task management.\n",
    "                                Strictly follow security and compliance protocols.\"\"\")\n",
    "\n",
<<<<<<< HEAD
    "def task_node(state: State) -> Command[Literal[\"supervisor\"]]:\n",
    "    result = task_agent.invoke(state)\n",
    "    return Command(\n",
    "        update={\n",
    "            \"messages\": [\n",
    "                HumanMessage(content=result[\"messages\"][-1].content, name=\"tasker\")\n",
    "            ]\n",
    "        },\n",
    "        goto=\"supervisor\"\n",
    "    )"
   ]
  },
  {
   "cell_type": "code",
   "execution_count": 198,
   "metadata": {},
   "outputs": [],
   "source": [
    "task_agent = create_react_agent(llm, \n",
    "                                tools=[create_OpenVAS_tasks, open_browser], \n",
    "                                prompt=\"\"\"You are an automation agent responsible for task creation \n",
    "                                and workflow management in OpenVAS. Your goal is to optimize the execution \n",
    "                                of scans, open the OpenVAS GUI in the browser, and ensure smooth task management.\n",
    "                                Strictly follow security and compliance protocols.\"\"\")\n",
    "\n",
    "def task_node(state: State) -> Command[Literal[\"supervisor\"]]:\n",
    "    result = task_agent.invoke(state)\n",
    "    return Command(\n",
    "        update={\n",
    "            \"messages\": [\n",
    "                HumanMessage(content=result[\"messages\"][-1].content, name=\"tasker\")\n",
    "            ]\n",
    "        },\n",
    "        goto=\"supervisor\"\n",
    "    )"
=======
    "def task_node(state: State) -> Command[Literal[\"supervisor\", \"call_tool\"]]:\n",
    "    result = task_agent.invoke(state)\n",
    "    print(result)\n",
    "    if result[\"messages\"][-1].tool_calls:\n",
    "        return Command(\n",
    "            update={\"messages\": [\n",
    "                AIMessage(content=result[\"messages\"][-1].content, name=\"tasker\")\n",
    "            ],\n",
    "            \"next\": \"tasker\"\n",
    "            },\n",
    "            goto=\"call_tool\"\n",
    "        )\n",
    "    else: \n",
    "        return Command(\n",
    "            update={\n",
    "             \"messages\": [\n",
    "                AIMessage(content=result[\"messages\"][-1].content, name=\"tasker\")\n",
    "            ]\n",
    "        },\n",
    "        goto=\"supervisor\"  \n",
    "    )\n",
    "\n",
    "    "
>>>>>>> develop
   ]
  },
  {
   "cell_type": "code",
<<<<<<< HEAD
   "execution_count": 199,
=======
   "execution_count": 333,
>>>>>>> develop
   "metadata": {},
   "outputs": [],
   "source": [
    "result_agent = create_react_agent(llm, \n",
    "                                  tools=[get_OpenVAS_results], \n",
    "                                  prompt=\"\"\"You are an analysis agent responsible for reviewing and interpreting\n",
    "                                            OpenVAS scan results. Your goal is to process reports, identify critical vulnerabilities, \n",
    "                                            and provide clear summaries of key findings. Highlight security risks, suggest mitigation strategies, \n",
    "                                            and ensure the information is actionable for users. Strictly follow security and compliance protocols.\"\"\")\n",
    "\n",
<<<<<<< HEAD
    "def result_node(state: State) -> Command[Literal[\"supervisor\"]]:\n",
    "    result = result_agent.invoke(state)  # Invocando o agente para processar os resultados\n",
    "    return Command(\n",
    "        update={\n",
    "            \"messages\": [\n",
    "                HumanMessage(content=result[\"messages\"][-1].content, name=\"resulter\")  # Nome do agente de resultado\n",
    "            ]\n",
    "        },\n",
    "        goto=\"supervisor\"  # Transição para o nó 'supervisor'\n",
=======
    "def result_node(state: State) -> Command[Literal[\"supervisor\", \"call_tool\"]]:\n",
    "    result = result_agent.invoke(state)\n",
    "    if result[\"messages\"][-1].tool_calls:\n",
    "        return Command(\n",
    "            update={\"messages\": [\n",
    "                AIMessage(content=result[\"messages\"][-1].content, name=\"resulter\")\n",
    "            ],\n",
    "            \"next\": \"resulter\"\n",
    "            },\n",
    "            goto=\"call_tool\"\n",
    "        )\n",
    "    else: \n",
    "        return Command(\n",
    "            update={\n",
    "             \"messages\": [\n",
    "                AIMessage(content=result[\"messages\"][-1].content, name=\"resulter\")\n",
    "            ]\n",
    "        },\n",
    "        goto=\"supervisor\"  \n",
>>>>>>> develop
    "    )"
   ]
  },
  {
   "cell_type": "code",
<<<<<<< HEAD
   "execution_count": 200,
=======
   "execution_count": 334,
   "metadata": {},
   "outputs": [],
   "source": [
    "toolkit = [get_OpenVAS_results, open_browser, create_OpenVAS_tasks]"
   ]
  },
  {
   "cell_type": "code",
   "execution_count": 335,
   "metadata": {},
   "outputs": [],
   "source": [
    "tool_node = ToolNode(toolkit)\n"
   ]
  },
  {
   "cell_type": "code",
   "execution_count": 336,
>>>>>>> develop
   "metadata": {},
   "outputs": [],
   "source": [
    "builder = StateGraph(State)\n",
    "builder.set_entry_point(\"supervisor\")\n",
    "\n",
    "# Adicionando os nós ao gráfico\n",
    "builder.add_node(\"supervisor\", supervisor_node)\n",
    "builder.add_node(\"tasker\", task_node)\n",
<<<<<<< HEAD
    "builder.add_node(\"resulter\", result_node) \n",
=======
    "builder.add_node(\"resulter\", result_node)\n",
    "builder.add_node(\"call_tool\", tool_node)\n",
    "builder.add_conditional_edges(\"call_tool\", lambda x: x[\"next\"], {\"resulter\":\"resulter\", \"tasker\":\"tasker\"})\n",
>>>>>>> develop
    "# Compilando o gráfico\n",
    "graph = builder.compile()"
   ]
  },
  {
   "cell_type": "code",
<<<<<<< HEAD
   "execution_count": 201,
=======
   "execution_count": 337,
>>>>>>> develop
   "metadata": {},
   "outputs": [
    {
     "data": {
<<<<<<< HEAD
      "image/png": "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",
=======
      "image/png": "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",
>>>>>>> develop
      "text/plain": [
       "<IPython.core.display.Image object>"
      ]
     },
     "metadata": {},
     "output_type": "display_data"
    }
   ],
   "source": [
    "from IPython.display import display, Image\n",
    "\n",
    "display(Image(graph.get_graph().draw_mermaid_png()))"
   ]
  },
  {
   "cell_type": "code",
<<<<<<< HEAD
   "execution_count": 202,
=======
   "execution_count": 338,
>>>>>>> develop
   "metadata": {},
   "outputs": [
    {
     "name": "stdout",
     "output_type": "stream",
     "text": [
      "((), {'supervisor': {'next': 'tasker'}})\n",
      "----\n",
<<<<<<< HEAD
      "(('tasker:3a6f3246-6431-744f-8313-d068862c7f7b',), {'agent': {'messages': [AIMessage(content='Please provide the details for the OpenVAS task you would like to create, such as the target IP addresses, scan configuration, and any specific options you want to include.', additional_kwargs={'refusal': None}, response_metadata={'token_usage': {'completion_tokens': 36, 'prompt_tokens': 197, 'total_tokens': 233, 'completion_tokens_details': {'accepted_prediction_tokens': 0, 'audio_tokens': 0, 'reasoning_tokens': 0, 'rejected_prediction_tokens': 0}, 'prompt_tokens_details': {'audio_tokens': 0, 'cached_tokens': 0}}, 'model_name': 'gpt-4o-mini-2024-07-18', 'system_fingerprint': 'fp_13eed4fce1', 'finish_reason': 'stop', 'logprobs': None}, id='run-f6b20f7c-f020-4b10-b1fb-dc6203869c7e-0', usage_metadata={'input_tokens': 197, 'output_tokens': 36, 'total_tokens': 233, 'input_token_details': {'audio': 0, 'cache_read': 0}, 'output_token_details': {'audio': 0, 'reasoning': 0}})]}})\n",
      "----\n",
      "((), {'tasker': {'messages': [HumanMessage(content='Please provide the details for the OpenVAS task you would like to create, such as the target IP addresses, scan configuration, and any specific options you want to include.', additional_kwargs={}, response_metadata={}, name='tasker')]}})\n",
      "----\n",
      "((), {'supervisor': {'next': 'resulter'}})\n",
      "----\n",
      "(('resulter:0e535996-0cba-7ce1-8424-e511015afcee',), {'agent': {'messages': [AIMessage(content='To create an OpenVAS task, please provide the following details:\\n\\n1. **Target IP Addresses**: Specify the IP addresses or ranges you want to scan.\\n2. **Scan Configuration**: Choose a predefined scan configuration (e.g., Full and Fast, Full and Slow, etc.).\\n3. **Task Name**: Give your task a descriptive name.\\n4. **Schedule**: Indicate if you want to run the scan immediately or schedule it for a later time.\\n5. **Notification Options**: Specify if you want to receive notifications upon completion or if there are any specific users to notify.\\n6. **Additional Options**: Any other specific settings or options you want to include in the task.\\n\\nOnce you provide these details, I can assist you further!', additional_kwargs={'refusal': None}, response_metadata={'token_usage': {'completion_tokens': 157, 'prompt_tokens': 188, 'total_tokens': 345, 'completion_tokens_details': {'accepted_prediction_tokens': 0, 'audio_tokens': 0, 'reasoning_tokens': 0, 'rejected_prediction_tokens': 0}, 'prompt_tokens_details': {'audio_tokens': 0, 'cached_tokens': 0}}, 'model_name': 'gpt-4o-mini-2024-07-18', 'system_fingerprint': 'fp_13eed4fce1', 'finish_reason': 'stop', 'logprobs': None}, id='run-b3020019-3829-44bc-984e-2bf9f6fe291f-0', usage_metadata={'input_tokens': 188, 'output_tokens': 157, 'total_tokens': 345, 'input_token_details': {'audio': 0, 'cache_read': 0}, 'output_token_details': {'audio': 0, 'reasoning': 0}})]}})\n",
      "----\n",
      "((), {'resulter': {'messages': [HumanMessage(content='To create an OpenVAS task, please provide the following details:\\n\\n1. **Target IP Addresses**: Specify the IP addresses or ranges you want to scan.\\n2. **Scan Configuration**: Choose a predefined scan configuration (e.g., Full and Fast, Full and Slow, etc.).\\n3. **Task Name**: Give your task a descriptive name.\\n4. **Schedule**: Indicate if you want to run the scan immediately or schedule it for a later time.\\n5. **Notification Options**: Specify if you want to receive notifications upon completion or if there are any specific users to notify.\\n6. **Additional Options**: Any other specific settings or options you want to include in the task.\\n\\nOnce you provide these details, I can assist you further!', additional_kwargs={}, response_metadata={}, name='resulter')]}})\n",
      "----\n",
      "((), {'supervisor': {'next': 'tasker'}})\n",
      "----\n",
      "(('tasker:05db9a84-5ab8-2dfe-6b42-fca7cc964eeb',), {'agent': {'messages': [AIMessage(content='Please provide the following details for the OpenVAS task you would like to create:\\n\\n1. **Target IP Addresses**: Specify the IP addresses or ranges you want to scan.\\n2. **Scan Configuration**: Choose a predefined scan configuration (e.g., Full and Fast, Full and Slow, etc.).\\n3. **Task Name**: Give your task a descriptive name.\\n4. **Schedule**: Indicate if you want to run the scan immediately or schedule it for a later time.\\n5. **Notification Options**: Specify if you want to receive notifications upon completion or if there are any specific users to notify.\\n6. **Additional Options**: Any other specific settings or options you want to include in the task.\\n\\nOnce you provide these details, I can assist you further!', additional_kwargs={'refusal': None}, response_metadata={'token_usage': {'completion_tokens': 160, 'prompt_tokens': 400, 'total_tokens': 560, 'completion_tokens_details': {'accepted_prediction_tokens': 0, 'audio_tokens': 0, 'reasoning_tokens': 0, 'rejected_prediction_tokens': 0}, 'prompt_tokens_details': {'audio_tokens': 0, 'cached_tokens': 0}}, 'model_name': 'gpt-4o-mini-2024-07-18', 'system_fingerprint': 'fp_13eed4fce1', 'finish_reason': 'stop', 'logprobs': None}, id='run-994b9db1-7710-41ad-be37-a48848fc57a4-0', usage_metadata={'input_tokens': 400, 'output_tokens': 160, 'total_tokens': 560, 'input_token_details': {'audio': 0, 'cache_read': 0}, 'output_token_details': {'audio': 0, 'reasoning': 0}})]}})\n",
      "----\n",
      "((), {'tasker': {'messages': [HumanMessage(content='Please provide the following details for the OpenVAS task you would like to create:\\n\\n1. **Target IP Addresses**: Specify the IP addresses or ranges you want to scan.\\n2. **Scan Configuration**: Choose a predefined scan configuration (e.g., Full and Fast, Full and Slow, etc.).\\n3. **Task Name**: Give your task a descriptive name.\\n4. **Schedule**: Indicate if you want to run the scan immediately or schedule it for a later time.\\n5. **Notification Options**: Specify if you want to receive notifications upon completion or if there are any specific users to notify.\\n6. **Additional Options**: Any other specific settings or options you want to include in the task.\\n\\nOnce you provide these details, I can assist you further!', additional_kwargs={}, response_metadata={}, name='tasker')]}})\n",
      "----\n",
      "((), {'supervisor': {'next': 'resulter'}})\n",
      "----\n",
      "(('resulter:0f4328fd-24c5-8476-0946-d8c358751fe0',), {'agent': {'messages': [AIMessage(content='Please provide the following details for the OpenVAS task you would like to create:\\n\\n1. **Target IP Addresses**: Specify the IP addresses or ranges you want to scan.\\n2. **Scan Configuration**: Choose a predefined scan configuration (e.g., Full and Fast, Full and Slow, etc.).\\n3. **Task Name**: Give your task a descriptive name.\\n4. **Schedule**: Indicate if you want to run the scan immediately or schedule it for a later time.\\n5. **Notification Options**: Specify if you want to receive notifications upon completion or if there are any specific users to notify.\\n6. **Additional Options**: Any other specific settings or options you want to include in the task.\\n\\nOnce you provide these details, I can assist you further!', additional_kwargs={'refusal': None}, response_metadata={'token_usage': {'completion_tokens': 160, 'prompt_tokens': 515, 'total_tokens': 675, 'completion_tokens_details': {'accepted_prediction_tokens': 0, 'audio_tokens': 0, 'reasoning_tokens': 0, 'rejected_prediction_tokens': 0}, 'prompt_tokens_details': {'audio_tokens': 0, 'cached_tokens': 0}}, 'model_name': 'gpt-4o-mini-2024-07-18', 'system_fingerprint': 'fp_13eed4fce1', 'finish_reason': 'stop', 'logprobs': None}, id='run-aa7e0cbd-138e-4dd0-9019-0b30ebd86f16-0', usage_metadata={'input_tokens': 515, 'output_tokens': 160, 'total_tokens': 675, 'input_token_details': {'audio': 0, 'cache_read': 0}, 'output_token_details': {'audio': 0, 'reasoning': 0}})]}})\n",
      "----\n",
      "((), {'resulter': {'messages': [HumanMessage(content='Please provide the following details for the OpenVAS task you would like to create:\\n\\n1. **Target IP Addresses**: Specify the IP addresses or ranges you want to scan.\\n2. **Scan Configuration**: Choose a predefined scan configuration (e.g., Full and Fast, Full and Slow, etc.).\\n3. **Task Name**: Give your task a descriptive name.\\n4. **Schedule**: Indicate if you want to run the scan immediately or schedule it for a later time.\\n5. **Notification Options**: Specify if you want to receive notifications upon completion or if there are any specific users to notify.\\n6. **Additional Options**: Any other specific settings or options you want to include in the task.\\n\\nOnce you provide these details, I can assist you further!', additional_kwargs={}, response_metadata={}, name='resulter')]}})\n",
      "----\n",
      "((), {'supervisor': {'next': 'tasker'}})\n",
      "----\n",
      "(('tasker:fb1cf5dc-cd4f-95af-75e0-356402f40c04',), {'agent': {'messages': [AIMessage(content='Please provide the following details for the OpenVAS task you would like to create:\\n\\n1. **Target IP Addresses**: Specify the IP addresses or ranges you want to scan.\\n2. **Scan Configuration**: Choose a predefined scan configuration (e.g., Full and Fast, Full and Slow, etc.).\\n3. **Task Name**: Give your task a descriptive name.\\n4. **Schedule**: Indicate if you want to run the scan immediately or schedule it for a later time.\\n5. **Notification Options**: Specify if you want to receive notifications upon completion or if there are any specific users to notify.\\n6. **Additional Options**: Any other specific settings or options you want to include in the task.\\n\\nOnce you provide these details, I can assist you further!', additional_kwargs={'refusal': None}, response_metadata={'token_usage': {'completion_tokens': 160, 'prompt_tokens': 730, 'total_tokens': 890, 'completion_tokens_details': {'accepted_prediction_tokens': 0, 'audio_tokens': 0, 'reasoning_tokens': 0, 'rejected_prediction_tokens': 0}, 'prompt_tokens_details': {'audio_tokens': 0, 'cached_tokens': 0}}, 'model_name': 'gpt-4o-mini-2024-07-18', 'system_fingerprint': 'fp_13eed4fce1', 'finish_reason': 'stop', 'logprobs': None}, id='run-d2241eee-dc51-4542-a103-b2514f3d1c55-0', usage_metadata={'input_tokens': 730, 'output_tokens': 160, 'total_tokens': 890, 'input_token_details': {'audio': 0, 'cache_read': 0}, 'output_token_details': {'audio': 0, 'reasoning': 0}})]}})\n",
      "----\n",
      "((), {'tasker': {'messages': [HumanMessage(content='Please provide the following details for the OpenVAS task you would like to create:\\n\\n1. **Target IP Addresses**: Specify the IP addresses or ranges you want to scan.\\n2. **Scan Configuration**: Choose a predefined scan configuration (e.g., Full and Fast, Full and Slow, etc.).\\n3. **Task Name**: Give your task a descriptive name.\\n4. **Schedule**: Indicate if you want to run the scan immediately or schedule it for a later time.\\n5. **Notification Options**: Specify if you want to receive notifications upon completion or if there are any specific users to notify.\\n6. **Additional Options**: Any other specific settings or options you want to include in the task.\\n\\nOnce you provide these details, I can assist you further!', additional_kwargs={}, response_metadata={}, name='tasker')]}})\n",
      "----\n",
      "((), {'supervisor': {'next': 'resulter'}})\n",
      "----\n",
      "(('resulter:0f76c49c-585e-1a1d-62c2-c4916290e98c',), {'agent': {'messages': [AIMessage(content='It seems there was a misunderstanding. Please provide the following details for the OpenVAS task you would like to create:\\n\\n1. **Target IP Addresses**: Specify the IP addresses or ranges you want to scan.\\n2. **Scan Configuration**: Choose a predefined scan configuration (e.g., Full and Fast, Full and Slow, etc.).\\n3. **Task Name**: Give your task a descriptive name.\\n4. **Schedule**: Indicate if you want to run the scan immediately or schedule it for a later time.\\n5. **Notification Options**: Specify if you want to receive notifications upon completion or if there are any specific users to notify.\\n6. **Additional Options**: Any other specific settings or options you want to include in the task.\\n\\nOnce you provide these details, I can assist you further!', additional_kwargs={'refusal': None}, response_metadata={'token_usage': {'completion_tokens': 167, 'prompt_tokens': 845, 'total_tokens': 1012, 'completion_tokens_details': {'accepted_prediction_tokens': 0, 'audio_tokens': 0, 'reasoning_tokens': 0, 'rejected_prediction_tokens': 0}, 'prompt_tokens_details': {'audio_tokens': 0, 'cached_tokens': 0}}, 'model_name': 'gpt-4o-mini-2024-07-18', 'system_fingerprint': 'fp_13eed4fce1', 'finish_reason': 'stop', 'logprobs': None}, id='run-e90bb677-c350-4ded-bb00-6534a659dd5f-0', usage_metadata={'input_tokens': 845, 'output_tokens': 167, 'total_tokens': 1012, 'input_token_details': {'audio': 0, 'cache_read': 0}, 'output_token_details': {'audio': 0, 'reasoning': 0}})]}})\n",
      "----\n",
      "((), {'resulter': {'messages': [HumanMessage(content='It seems there was a misunderstanding. Please provide the following details for the OpenVAS task you would like to create:\\n\\n1. **Target IP Addresses**: Specify the IP addresses or ranges you want to scan.\\n2. **Scan Configuration**: Choose a predefined scan configuration (e.g., Full and Fast, Full and Slow, etc.).\\n3. **Task Name**: Give your task a descriptive name.\\n4. **Schedule**: Indicate if you want to run the scan immediately or schedule it for a later time.\\n5. **Notification Options**: Specify if you want to receive notifications upon completion or if there are any specific users to notify.\\n6. **Additional Options**: Any other specific settings or options you want to include in the task.\\n\\nOnce you provide these details, I can assist you further!', additional_kwargs={}, response_metadata={}, name='resulter')]}})\n",
      "----\n",
      "((), {'supervisor': {'next': 'resulter'}})\n",
      "----\n",
      "(('resulter:d3e365b2-e772-578e-fec9-0286d15d66bd',), {'agent': {'messages': [AIMessage(content='It seems there was a misunderstanding. Please provide the following details for the OpenVAS task you would like to create:\\n\\n1. **Target IP Addresses**: Specify the IP addresses or ranges you want to scan.\\n2. **Scan Configuration**: Choose a predefined scan configuration (e.g., Full and Fast, Full and Slow, etc.).\\n3. **Task Name**: Give your task a descriptive name.\\n4. **Schedule**: Indicate if you want to run the scan immediately or schedule it for a later time.\\n5. **Notification Options**: Specify if you want to receive notifications upon completion or if there are any specific users to notify.\\n6. **Additional Options**: Any other specific settings or options you want to include in the task.\\n\\nOnce you provide these details, I can assist you further!', additional_kwargs={'refusal': None}, response_metadata={'token_usage': {'completion_tokens': 167, 'prompt_tokens': 1017, 'total_tokens': 1184, 'completion_tokens_details': {'accepted_prediction_tokens': 0, 'audio_tokens': 0, 'reasoning_tokens': 0, 'rejected_prediction_tokens': 0}, 'prompt_tokens_details': {'audio_tokens': 0, 'cached_tokens': 0}}, 'model_name': 'gpt-4o-mini-2024-07-18', 'system_fingerprint': 'fp_13eed4fce1', 'finish_reason': 'stop', 'logprobs': None}, id='run-df3b9f29-17a9-4529-aac2-21f7ffebc40f-0', usage_metadata={'input_tokens': 1017, 'output_tokens': 167, 'total_tokens': 1184, 'input_token_details': {'audio': 0, 'cache_read': 0}, 'output_token_details': {'audio': 0, 'reasoning': 0}})]}})\n",
      "----\n",
      "((), {'resulter': {'messages': [HumanMessage(content='It seems there was a misunderstanding. Please provide the following details for the OpenVAS task you would like to create:\\n\\n1. **Target IP Addresses**: Specify the IP addresses or ranges you want to scan.\\n2. **Scan Configuration**: Choose a predefined scan configuration (e.g., Full and Fast, Full and Slow, etc.).\\n3. **Task Name**: Give your task a descriptive name.\\n4. **Schedule**: Indicate if you want to run the scan immediately or schedule it for a later time.\\n5. **Notification Options**: Specify if you want to receive notifications upon completion or if there are any specific users to notify.\\n6. **Additional Options**: Any other specific settings or options you want to include in the task.\\n\\nOnce you provide these details, I can assist you further!', additional_kwargs={}, response_metadata={}, name='resulter')]}})\n",
      "----\n",
      "((), {'supervisor': {'next': 'resulter'}})\n",
      "----\n",
      "(('resulter:64c8bb3f-0516-7ef5-f07e-0a38af5453c3',), {'agent': {'messages': [AIMessage(content='It seems there has been a repeated request for the details needed to create an OpenVAS task. Please provide the following information:\\n\\n1. **Target IP Addresses**: Specify the IP addresses or ranges you want to scan.\\n2. **Scan Configuration**: Choose a predefined scan configuration (e.g., Full and Fast, Full and Slow, etc.).\\n3. **Task Name**: Give your task a descriptive name.\\n4. **Schedule**: Indicate if you want to run the scan immediately or schedule it for a later time.\\n5. **Notification Options**: Specify if you want to receive notifications upon completion or if there are any specific users to notify.\\n6. **Additional Options**: Any other specific settings or options you want to include in the task.\\n\\nOnce you provide these details, I can assist you further!', additional_kwargs={'refusal': None}, response_metadata={'token_usage': {'completion_tokens': 169, 'prompt_tokens': 1189, 'total_tokens': 1358, 'completion_tokens_details': {'accepted_prediction_tokens': 0, 'audio_tokens': 0, 'reasoning_tokens': 0, 'rejected_prediction_tokens': 0}, 'prompt_tokens_details': {'audio_tokens': 0, 'cached_tokens': 0}}, 'model_name': 'gpt-4o-mini-2024-07-18', 'system_fingerprint': 'fp_13eed4fce1', 'finish_reason': 'stop', 'logprobs': None}, id='run-386648bb-1e48-4cb8-b40a-727096e83b49-0', usage_metadata={'input_tokens': 1189, 'output_tokens': 169, 'total_tokens': 1358, 'input_token_details': {'audio': 0, 'cache_read': 0}, 'output_token_details': {'audio': 0, 'reasoning': 0}})]}})\n",
      "----\n",
      "((), {'resulter': {'messages': [HumanMessage(content='It seems there has been a repeated request for the details needed to create an OpenVAS task. Please provide the following information:\\n\\n1. **Target IP Addresses**: Specify the IP addresses or ranges you want to scan.\\n2. **Scan Configuration**: Choose a predefined scan configuration (e.g., Full and Fast, Full and Slow, etc.).\\n3. **Task Name**: Give your task a descriptive name.\\n4. **Schedule**: Indicate if you want to run the scan immediately or schedule it for a later time.\\n5. **Notification Options**: Specify if you want to receive notifications upon completion or if there are any specific users to notify.\\n6. **Additional Options**: Any other specific settings or options you want to include in the task.\\n\\nOnce you provide these details, I can assist you further!', additional_kwargs={}, response_metadata={}, name='resulter')]}})\n",
=======
      "{'messages': [HumanMessage(content='quero analisar uma task', additional_kwargs={}, response_metadata={}, id='8ecfb10d-b317-456d-9e99-7b8507f90b5a'), AIMessage(content='Para analisar uma task no OpenVAS, você pode me fornecer mais detalhes sobre a task que deseja analisar? Por exemplo, você pode informar o nome da task, o ID ou qualquer outra informação relevante que ajude na análise.', additional_kwargs={'refusal': None}, response_metadata={'token_usage': {'completion_tokens': 47, 'prompt_tokens': 194, 'total_tokens': 241, 'completion_tokens_details': {'accepted_prediction_tokens': 0, 'audio_tokens': 0, 'reasoning_tokens': 0, 'rejected_prediction_tokens': 0}, 'prompt_tokens_details': {'audio_tokens': 0, 'cached_tokens': 0}}, 'model_name': 'gpt-4o-mini-2024-07-18', 'system_fingerprint': 'fp_13eed4fce1', 'finish_reason': 'stop', 'logprobs': None}, id='run-8e5f777c-4a33-4231-b1b1-d542a3bb3c09-0', usage_metadata={'input_tokens': 194, 'output_tokens': 47, 'total_tokens': 241, 'input_token_details': {'audio': 0, 'cache_read': 0}, 'output_token_details': {'audio': 0, 'reasoning': 0}})]}\n",
      "(('tasker:d1a9907d-3a4b-d43f-71d2-32ae88599655',), {'agent': {'messages': [AIMessage(content='Para analisar uma task no OpenVAS, você pode me fornecer mais detalhes sobre a task que deseja analisar? Por exemplo, você pode informar o nome da task, o ID ou qualquer outra informação relevante que ajude na análise.', additional_kwargs={'refusal': None}, response_metadata={'token_usage': {'completion_tokens': 47, 'prompt_tokens': 194, 'total_tokens': 241, 'completion_tokens_details': {'accepted_prediction_tokens': 0, 'audio_tokens': 0, 'reasoning_tokens': 0, 'rejected_prediction_tokens': 0}, 'prompt_tokens_details': {'audio_tokens': 0, 'cached_tokens': 0}}, 'model_name': 'gpt-4o-mini-2024-07-18', 'system_fingerprint': 'fp_13eed4fce1', 'finish_reason': 'stop', 'logprobs': None}, id='run-8e5f777c-4a33-4231-b1b1-d542a3bb3c09-0', usage_metadata={'input_tokens': 194, 'output_tokens': 47, 'total_tokens': 241, 'input_token_details': {'audio': 0, 'cache_read': 0}, 'output_token_details': {'audio': 0, 'reasoning': 0}})]}})\n",
      "----\n",
      "((), {'tasker': {'messages': [AIMessage(content='Para analisar uma task no OpenVAS, você pode me fornecer mais detalhes sobre a task que deseja analisar? Por exemplo, você pode informar o nome da task, o ID ou qualquer outra informação relevante que ajude na análise.', additional_kwargs={}, response_metadata={}, name='tasker')]}})\n",
      "----\n",
      "((), {'supervisor': {'next': 'resulter'}})\n",
      "----\n",
      "(('resulter:969bcc05-70bd-c115-8e6b-bb082e4242ba',), {'agent': {'messages': [AIMessage(content='', additional_kwargs={'tool_calls': [{'id': 'call_zyviypip5DR4hwIvQ22od1Ib', 'function': {'arguments': '{\"question\":\"Por favor, forneça os resultados da task que você deseja analisar.\"}', 'name': 'get_OpenVAS_results'}, 'type': 'function'}], 'refusal': None}, response_metadata={'token_usage': {'completion_tokens': 30, 'prompt_tokens': 196, 'total_tokens': 226, 'completion_tokens_details': {'accepted_prediction_tokens': 0, 'audio_tokens': 0, 'reasoning_tokens': 0, 'rejected_prediction_tokens': 0}, 'prompt_tokens_details': {'audio_tokens': 0, 'cached_tokens': 0}}, 'model_name': 'gpt-4o-mini-2024-07-18', 'system_fingerprint': 'fp_13eed4fce1', 'finish_reason': 'tool_calls', 'logprobs': None}, id='run-166ea922-76b8-4310-934e-9ceac1e4b15f-0', tool_calls=[{'name': 'get_OpenVAS_results', 'args': {'question': 'Por favor, forneça os resultados da task que você deseja analisar.'}, 'id': 'call_zyviypip5DR4hwIvQ22od1Ib', 'type': 'tool_call'}], usage_metadata={'input_tokens': 196, 'output_tokens': 30, 'total_tokens': 226, 'input_token_details': {'audio': 0, 'cache_read': 0}, 'output_token_details': {'audio': 0, 'reasoning': 0}})]}})\n",
      "----\n",
      "(('resulter:969bcc05-70bd-c115-8e6b-bb082e4242ba',), {'tools': {'messages': [ToolMessage(content=\"content='Here are the detailed analyses of the detected vulnerabilities from the OpenVAS scan results:\\\\n\\\\n### Vulnerability Report\\\\n\\\\n1. **Vulnerability:** jQuery < 1.9.0 XSS Vulnerability\\\\n   - **ID:** 4aaca649-ea1a-46c7-b797-0dff985b3127\\\\n   - **Host:** 192.168.0.1_gateway\\\\n   - **Port:** 80/tcp\\\\n   - **CVSS Base Score:** Medium (6.1)\\\\n   - **Description:** jQuery is prone to a cross-site scripting (XSS) vulnerability due to improper handling of HTML input. Attackers can exploit this by injecting malicious scripts.\\\\n   - **Solution:** Update to version 1.9.0 or later.\\\\n   - **References:** \\\\n     - CVE-2012-6708\\\\n     - [jQuery Ticket #11290](https://bugs.jquery.com/ticket/11290)\\\\n     - WID-SEC-2022-0673\\\\n     - CB-K22/0045\\\\n     - CB-K18/1131\\\\n     - DFN-CERT-2023-1197\\\\n     - DFN-CERT-2020-0590\\\\n\\\\n2. **Vulnerability:** Weak Host Key Algorithm(s) (SSH)\\\\n   - **ID:** 237d533d-d190-4c53-9c1c-90312a1ff5f6\\\\n   - **Host:** 192.168.0.1_gateway\\\\n   - **Port:** 22/tcp\\\\n   - **CVSS Base Score:** Medium (5.3)\\\\n   - **Description:** The remote SSH server is configured to allow weak host key algorithms, which can be exploited by attackers.\\\\n   - **Solution:** Disable the reported weak host key algorithm(s).\\\\n   - **References:** \\\\n     - [RFC 8332](https://www.rfc-editor.org/rfc/rfc8332)\\\\n     - [RFC 8709](https://www.rfc-editor.org/rfc/rfc8709)\\\\n     - [RFC 4253](https://www.rfc-editor.org/rfc/rfc4253#section-6.6)\\\\n\\\\n3. **Vulnerability:** Weak Key Exchange (KEX) Algorithm(s) Supported (SSH)\\\\n   - **ID:** 131e7689-a7ad-48f3-83c1-9e54c018d7a6\\\\n   - **Host:** 192.168.0.1_gateway\\\\n   - **Port:** 22/tcp\\\\n   - **CVSS Base Score:** Medium (5.3)\\\\n   - **Description:** The remote SSH server supports weak key exchange algorithms, which can be exploited by attackers to break connections.\\\\n   - **Solution:** Disable the reported weak KEX algorithm(s).\\\\n   - **References:** \\\\n     - [WeakDH](https://weakdh.org/sysadmin.html)\\\\n     - [RFC 9142](https://www.rfc-editor.org/rfc/rfc9142)\\\\n     - [RFC 4253](https://www.rfc-editor.org/rfc/rfc4253#section-6.5)\\\\n\\\\n4. **Vulnerability:** Telnet Unencrypted Cleartext Login\\\\n   - **ID:** 006fb0e3-6b3f-40d8-80ce-501d6e6e5e2c\\\\n   - **Host:** 192.168.0.1_gateway\\\\n   - **Port:** 23/tcp\\\\n   - **CVSS Base Score:** Medium (4.8)\\\\n   - **Description:** The remote host is running a Telnet service that allows cleartext logins over unencrypted connections, exposing credentials to attackers.\\\\n   - **Solution:** Replace Telnet with a protocol like SSH which supports encrypted connections.\\\\n   - **References:** None provided.\\\\n\\\\n5. **Vulnerability:** SSL/TLS: Deprecated TLSv1.0 and TLSv1.1 Protocol Detection\\\\n   - **ID:** 658ef6ae-ad55-4d97-bccc-6b8745bedabe\\\\n   - **Host:** 192.168.0.101\\\\n   - **Port:** 8002/tcp\\\\n   - **CVSS Base Score:** Medium (4.3)\\\\n   - **Description:** The service is providing deprecated TLSv1.0 and TLSv1.1 protocols, which contain known cryptographic flaws.\\\\n   - **Solution:** Disable the deprecated TLSv1.0 and/or TLSv1.1 protocols in favor of TLSv1.2+ protocols.\\\\n   - **References:** \\\\n     - CVE-2011-3389\\\\n     - CVE-2015-0204\\\\n     - [Mozilla SSL Config](https://ssl-config.mozilla.org/)\\\\n     - [BetterCrypto](https://bettercrypto.org/)\\\\n\\\\n6. **Vulnerability:** TCP Timestamps Information Disclosure\\\\n   - **ID:** 2b327348-97ff-4d19-8f66-28112c42466e\\\\n   - **Host:** 192.168.0.100\\\\n   - **Port:** general/tcp\\\\n   - **CVSS Base Score:** Low (2.6)\\\\n   - **Description:** The remote host implements TCP timestamps, allowing the computation of the uptime.\\\\n   - **Solution:** Disable TCP timestamps on Linux and Windows as described in the detailed solution.\\\\n   - **References:** \\\\n     - [RFC 1323](https://datatracker.ietf.org/doc/html/rfc1323)\\\\n     - [RFC 7323](https://datatracker.ietf.org/doc/html/rfc7323)\\\\n\\\\n### Additional Security Recommendations\\\\n- **Regular Updates:** Ensure that all software, including libraries like jQuery, is regularly updated to the latest stable versions to mitigate known vulnerabilities.\\\\n- **Use Strong Protocols:** Replace any use of Telnet with SSH and ensure that only strong encryption and key exchange algorithms are enabled in SSH configurations.\\\\n- **Disable Deprecated Protocols:** Disable TLSv1.0 and TLSv1.1 in favor of TLSv1.2 or higher to enhance security.\\\\n- **Monitor Network Traffic:** Implement monitoring solutions to detect any unauthorized access attempts or anomalies in network traffic.\\\\n- **Conduct Regular Security Audits:** Regularly perform vulnerability scans and penetration tests to identify and remediate potential security issues proactively.\\\\n\\\\nIf any vulnerabilities are missed or require further evaluation, please notify me for a re-evaluation.' additional_kwargs={'refusal': None} response_metadata={'token_usage': {'completion_tokens': 1345, 'prompt_tokens': 106182, 'total_tokens': 107527, 'completion_tokens_details': {'accepted_prediction_tokens': 0, 'audio_tokens': 0, 'reasoning_tokens': 0, 'rejected_prediction_tokens': 0}, 'prompt_tokens_details': {'audio_tokens': 0, 'cached_tokens': 0}}, 'model_name': 'gpt-4o-mini-2024-07-18', 'system_fingerprint': 'fp_00428b782a', 'finish_reason': 'stop', 'logprobs': None} id='run-89992c37-b11c-4297-98d3-554150cec41d-0' usage_metadata={'input_tokens': 106182, 'output_tokens': 1345, 'total_tokens': 107527, 'input_token_details': {'audio': 0, 'cache_read': 0}, 'output_token_details': {'audio': 0, 'reasoning': 0}}\", name='get_OpenVAS_results', id='e84cbcf0-c978-42f6-9070-988a36e61df8', tool_call_id='call_zyviypip5DR4hwIvQ22od1Ib')]}})\n",
      "----\n",
      "(('resulter:969bcc05-70bd-c115-8e6b-bb082e4242ba',), {'agent': {'messages': [AIMessage(content='Aqui está a análise detalhada das vulnerabilidades detectadas nos resultados da varredura OpenVAS:\\n\\n### Relatório de Vulnerabilidades\\n\\n1. **Vulnerabilidade:** jQuery < 1.9.0 XSS Vulnerability\\n   - **ID:** 4aaca649-ea1a-46c7-b797-0dff985b3127\\n   - **Host:** 192.168.0.1_gateway\\n   - **Porta:** 80/tcp\\n   - **CVSS Base Score:** Médio (6.1)\\n   - **Descrição:** O jQuery é vulnerável a um ataque de cross-site scripting (XSS) devido ao manuseio inadequado de entradas HTML. Atacantes podem explorar isso injetando scripts maliciosos.\\n   - **Solução:** Atualizar para a versão 1.9.0 ou posterior.\\n   - **Referências:** \\n     - CVE-2012-6708\\n     - [jQuery Ticket #11290](https://bugs.jquery.com/ticket/11290)\\n\\n2. **Vulnerabilidade:** Weak Host Key Algorithm(s) (SSH)\\n   - **ID:** 237d533d-d190-4c53-9c1c-90312a1ff5f6\\n   - **Host:** 192.168.0.1_gateway\\n   - **Porta:** 22/tcp\\n   - **CVSS Base Score:** Médio (5.3)\\n   - **Descrição:** O servidor SSH remoto está configurado para permitir algoritmos de chave host fracos, que podem ser explorados por atacantes.\\n   - **Solução:** Desabilitar os algoritmos de chave host fracos reportados.\\n   - **Referências:** \\n     - [RFC 8332](https://www.rfc-editor.org/rfc/rfc8332)\\n\\n3. **Vulnerabilidade:** Weak Key Exchange (KEX) Algorithm(s) Supported (SSH)\\n   - **ID:** 131e7689-a7ad-48f3-83c1-9e54c018d7a6\\n   - **Host:** 192.168.0.1_gateway\\n   - **Porta:** 22/tcp\\n   - **CVSS Base Score:** Médio (5.3)\\n   - **Descrição:** O servidor SSH remoto suporta algoritmos de troca de chave fracos, que podem ser explorados por atacantes para quebrar conexões.\\n   - **Solução:** Desabilitar os algoritmos KEX fracos reportados.\\n   - **Referências:** \\n     - [WeakDH](https://weakdh.org/sysadmin.html)\\n\\n4. **Vulnerabilidade:** Telnet Unencrypted Cleartext Login\\n   - **ID:** 006fb0e3-6b3f-40d8-80ce-501d6e6e5e2c\\n   - **Host:** 192.168.0.1_gateway\\n   - **Porta:** 23/tcp\\n   - **CVSS Base Score:** Médio (4.8)\\n   - **Descrição:** O host remoto está executando um serviço Telnet que permite logins em texto claro sobre conexões não criptografadas, expondo credenciais a atacantes.\\n   - **Solução:** Substituir o Telnet por um protocolo como SSH que suporte conexões criptografadas.\\n\\n5. **Vulnerabilidade:** SSL/TLS: Deprecated TLSv1.0 and TLSv1.1 Protocol Detection\\n   - **ID:** 658ef6ae-ad55-4d97-bccc-6b8745bedabe\\n   - **Host:** 192.168.0.101\\n   - **Porta:** 8002/tcp\\n   - **CVSS Base Score:** Médio (4.3)\\n   - **Descrição:** O serviço está fornecendo protocolos TLSv1.0 e TLSv1.1 obsoletos, que contêm falhas criptográficas conhecidas.\\n   - **Solução:** Desabilitar os protocolos TLSv1.0 e/ou TLSv1.1 em favor de protocolos TLSv1.2 ou superiores.\\n\\n6. **Vulnerabilidade:** TCP Timestamps Information Disclosure\\n   - **ID:** 2b327348-97ff-4d19-8f66-28112c42466e\\n   - **Host:** 192.168.0.100\\n   - **Porta:** general/tcp\\n   - **CVSS Base Score:** Baixo (2.6)\\n   - **Descrição:** O host remoto implementa timestamps TCP, permitindo o cálculo do tempo de atividade.\\n   - **Solução:** Desabilitar timestamps TCP em Linux e Windows conforme descrito na solução detalhada.\\n\\n### Recomendações de Segurança Adicionais\\n- **Atualizações Regulares:** Assegure-se de que todo o software, incluindo bibliotecas como jQuery, seja regularmente atualizado para as versões estáveis mais recentes.\\n- **Uso de Protocolos Fortes:** Substitua qualquer uso de Telnet por SSH e assegure-se de que apenas algoritmos de criptografia e troca de chaves fortes estejam habilitados nas configurações do SSH.\\n- **Desabilitar Protocolos Obsoletos:** Desabilite TLSv1.0 e TLSv1.1 em favor de TLSv1.2 ou superior para aumentar a segurança.\\n- **Monitoramento de Tráfego de Rede:** Implemente soluções de monitoramento para detectar tentativas de acesso não autorizadas ou anomalias no tráfego de rede.\\n- **Realizar Auditorias de Segurança Regulares:** Realize varreduras de vulnerabilidade e testes de penetração regularmente para identificar e remediar proativamente potenciais problemas de segurança.\\n\\nSe houver alguma vulnerabilidade que precise de mais avaliação ou se você tiver mais perguntas, por favor, me avise!', additional_kwargs={'refusal': None}, response_metadata={'token_usage': {'completion_tokens': 1234, 'prompt_tokens': 1864, 'total_tokens': 3098, 'completion_tokens_details': {'accepted_prediction_tokens': 0, 'audio_tokens': 0, 'reasoning_tokens': 0, 'rejected_prediction_tokens': 0}, 'prompt_tokens_details': {'audio_tokens': 0, 'cached_tokens': 0}}, 'model_name': 'gpt-4o-mini-2024-07-18', 'system_fingerprint': 'fp_13eed4fce1', 'finish_reason': 'stop', 'logprobs': None}, id='run-b4d3c54e-5cf9-4b5b-834a-2f4785ae5f93-0', usage_metadata={'input_tokens': 1864, 'output_tokens': 1234, 'total_tokens': 3098, 'input_token_details': {'audio': 0, 'cache_read': 0}, 'output_token_details': {'audio': 0, 'reasoning': 0}})]}})\n",
      "----\n",
      "((), {'resulter': {'messages': [AIMessage(content='Aqui está a análise detalhada das vulnerabilidades detectadas nos resultados da varredura OpenVAS:\\n\\n### Relatório de Vulnerabilidades\\n\\n1. **Vulnerabilidade:** jQuery < 1.9.0 XSS Vulnerability\\n   - **ID:** 4aaca649-ea1a-46c7-b797-0dff985b3127\\n   - **Host:** 192.168.0.1_gateway\\n   - **Porta:** 80/tcp\\n   - **CVSS Base Score:** Médio (6.1)\\n   - **Descrição:** O jQuery é vulnerável a um ataque de cross-site scripting (XSS) devido ao manuseio inadequado de entradas HTML. Atacantes podem explorar isso injetando scripts maliciosos.\\n   - **Solução:** Atualizar para a versão 1.9.0 ou posterior.\\n   - **Referências:** \\n     - CVE-2012-6708\\n     - [jQuery Ticket #11290](https://bugs.jquery.com/ticket/11290)\\n\\n2. **Vulnerabilidade:** Weak Host Key Algorithm(s) (SSH)\\n   - **ID:** 237d533d-d190-4c53-9c1c-90312a1ff5f6\\n   - **Host:** 192.168.0.1_gateway\\n   - **Porta:** 22/tcp\\n   - **CVSS Base Score:** Médio (5.3)\\n   - **Descrição:** O servidor SSH remoto está configurado para permitir algoritmos de chave host fracos, que podem ser explorados por atacantes.\\n   - **Solução:** Desabilitar os algoritmos de chave host fracos reportados.\\n   - **Referências:** \\n     - [RFC 8332](https://www.rfc-editor.org/rfc/rfc8332)\\n\\n3. **Vulnerabilidade:** Weak Key Exchange (KEX) Algorithm(s) Supported (SSH)\\n   - **ID:** 131e7689-a7ad-48f3-83c1-9e54c018d7a6\\n   - **Host:** 192.168.0.1_gateway\\n   - **Porta:** 22/tcp\\n   - **CVSS Base Score:** Médio (5.3)\\n   - **Descrição:** O servidor SSH remoto suporta algoritmos de troca de chave fracos, que podem ser explorados por atacantes para quebrar conexões.\\n   - **Solução:** Desabilitar os algoritmos KEX fracos reportados.\\n   - **Referências:** \\n     - [WeakDH](https://weakdh.org/sysadmin.html)\\n\\n4. **Vulnerabilidade:** Telnet Unencrypted Cleartext Login\\n   - **ID:** 006fb0e3-6b3f-40d8-80ce-501d6e6e5e2c\\n   - **Host:** 192.168.0.1_gateway\\n   - **Porta:** 23/tcp\\n   - **CVSS Base Score:** Médio (4.8)\\n   - **Descrição:** O host remoto está executando um serviço Telnet que permite logins em texto claro sobre conexões não criptografadas, expondo credenciais a atacantes.\\n   - **Solução:** Substituir o Telnet por um protocolo como SSH que suporte conexões criptografadas.\\n\\n5. **Vulnerabilidade:** SSL/TLS: Deprecated TLSv1.0 and TLSv1.1 Protocol Detection\\n   - **ID:** 658ef6ae-ad55-4d97-bccc-6b8745bedabe\\n   - **Host:** 192.168.0.101\\n   - **Porta:** 8002/tcp\\n   - **CVSS Base Score:** Médio (4.3)\\n   - **Descrição:** O serviço está fornecendo protocolos TLSv1.0 e TLSv1.1 obsoletos, que contêm falhas criptográficas conhecidas.\\n   - **Solução:** Desabilitar os protocolos TLSv1.0 e/ou TLSv1.1 em favor de protocolos TLSv1.2 ou superiores.\\n\\n6. **Vulnerabilidade:** TCP Timestamps Information Disclosure\\n   - **ID:** 2b327348-97ff-4d19-8f66-28112c42466e\\n   - **Host:** 192.168.0.100\\n   - **Porta:** general/tcp\\n   - **CVSS Base Score:** Baixo (2.6)\\n   - **Descrição:** O host remoto implementa timestamps TCP, permitindo o cálculo do tempo de atividade.\\n   - **Solução:** Desabilitar timestamps TCP em Linux e Windows conforme descrito na solução detalhada.\\n\\n### Recomendações de Segurança Adicionais\\n- **Atualizações Regulares:** Assegure-se de que todo o software, incluindo bibliotecas como jQuery, seja regularmente atualizado para as versões estáveis mais recentes.\\n- **Uso de Protocolos Fortes:** Substitua qualquer uso de Telnet por SSH e assegure-se de que apenas algoritmos de criptografia e troca de chaves fortes estejam habilitados nas configurações do SSH.\\n- **Desabilitar Protocolos Obsoletos:** Desabilite TLSv1.0 e TLSv1.1 em favor de TLSv1.2 ou superior para aumentar a segurança.\\n- **Monitoramento de Tráfego de Rede:** Implemente soluções de monitoramento para detectar tentativas de acesso não autorizadas ou anomalias no tráfego de rede.\\n- **Realizar Auditorias de Segurança Regulares:** Realize varreduras de vulnerabilidade e testes de penetração regularmente para identificar e remediar proativamente potenciais problemas de segurança.\\n\\nSe houver alguma vulnerabilidade que precise de mais avaliação ou se você tiver mais perguntas, por favor, me avise!', additional_kwargs={}, response_metadata={}, name='resulter')]}})\n",
>>>>>>> develop
      "----\n",
      "((), {'supervisor': {'next': '__end__'}})\n",
      "----\n"
     ]
    }
   ],
   "source": [
    "for s in graph.stream(\n",
    "    {\"messages\": [(\"user\", query)]}, subgraphs=True\n",
    "):\n",
    "    print(s)\n",
    "    print(\"----\")"
   ]
  }
 ],
 "metadata": {
  "kernelspec": {
   "display_name": ".venv",
   "language": "python",
   "name": "python3"
  },
  "language_info": {
   "codemirror_mode": {
    "name": "ipython",
    "version": 3
   },
   "file_extension": ".py",
   "mimetype": "text/x-python",
   "name": "python",
   "nbconvert_exporter": "python",
   "pygments_lexer": "ipython3",
   "version": "3.12.3"
  }
 },
 "nbformat": 4,
 "nbformat_minor": 2
}
